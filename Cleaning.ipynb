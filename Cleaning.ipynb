{
  "nbformat": 4,
  "nbformat_minor": 0,
  "metadata": {
    "colab": {
      "name": "Copy of CleaningBookData",
      "provenance": [],
      "collapsed_sections": [],
      "authorship_tag": "ABX9TyMj0wfCSH4mSqdPlKhT2sAR",
      "include_colab_link": true
    },
    "kernelspec": {
      "name": "python3",
      "display_name": "Python 3"
    }
  },
  "cells": [
    {
      "cell_type": "markdown",
      "metadata": {
        "id": "view-in-github",
        "colab_type": "text"
      },
      "source": [
        "<a href=\"https://colab.research.google.com/github/vishxl/Book-Price-Prediction/blob/master/Cleaning.ipynb\" target=\"_parent\"><img src=\"https://colab.research.google.com/assets/colab-badge.svg\" alt=\"Open In Colab\"/></a>"
      ]
    },
    {
      "cell_type": "code",
      "metadata": {
        "id": "kCS_yMlVSdOM",
        "colab_type": "code",
        "colab": {}
      },
      "source": [
        "import requests, zipfile, io\n",
        "r = requests.get( 'https://github.com/vishxl/Book-Price-Prediction/blob/master/Data.zip?raw=true' ) \n",
        "z = zipfile.ZipFile(io.BytesIO(r.content)) \n",
        "z.extractall()"
      ],
      "execution_count": 169,
      "outputs": []
    },
    {
      "cell_type": "code",
      "metadata": {
        "id": "idsby2uNWoF8",
        "colab_type": "code",
        "colab": {}
      },
      "source": [
        "import pandas as pd\n",
        "import numpy as np"
      ],
      "execution_count": 170,
      "outputs": []
    },
    {
      "cell_type": "code",
      "metadata": {
        "id": "L31AGdjzXIKX",
        "colab_type": "code",
        "colab": {}
      },
      "source": [
        "train = pd.read_excel('Participants_Data/Data_Train.xlsx')\n",
        "test = pd.read_excel('Participants_Data/Data_Test.xlsx')\n",
        "\n",
        "sub = pd.read_excel('Participants_Data/Sample_Submission.xlsx')"
      ],
      "execution_count": 171,
      "outputs": []
    },
    {
      "cell_type": "code",
      "metadata": {
        "id": "4PxChdKaXS2n",
        "colab_type": "code",
        "colab": {
          "base_uri": "https://localhost:8080/",
          "height": 328
        },
        "outputId": "0e2af956-2f8d-43fd-c71b-875ecefcfe75"
      },
      "source": [
        "train.head().T"
      ],
      "execution_count": 172,
      "outputs": [
        {
          "output_type": "execute_result",
          "data": {
            "text/html": [
              "<div>\n",
              "<style scoped>\n",
              "    .dataframe tbody tr th:only-of-type {\n",
              "        vertical-align: middle;\n",
              "    }\n",
              "\n",
              "    .dataframe tbody tr th {\n",
              "        vertical-align: top;\n",
              "    }\n",
              "\n",
              "    .dataframe thead th {\n",
              "        text-align: right;\n",
              "    }\n",
              "</style>\n",
              "<table border=\"1\" class=\"dataframe\">\n",
              "  <thead>\n",
              "    <tr style=\"text-align: right;\">\n",
              "      <th></th>\n",
              "      <th>0</th>\n",
              "      <th>1</th>\n",
              "      <th>2</th>\n",
              "      <th>3</th>\n",
              "      <th>4</th>\n",
              "    </tr>\n",
              "  </thead>\n",
              "  <tbody>\n",
              "    <tr>\n",
              "      <th>Title</th>\n",
              "      <td>The Prisoner's Gold (The Hunters 3)</td>\n",
              "      <td>Guru Dutt: A Tragedy in Three Acts</td>\n",
              "      <td>Leviathan (Penguin Classics)</td>\n",
              "      <td>A Pocket Full of Rye (Miss Marple)</td>\n",
              "      <td>LIFE 70 Years of Extraordinary Photography</td>\n",
              "    </tr>\n",
              "    <tr>\n",
              "      <th>Author</th>\n",
              "      <td>Chris Kuzneski</td>\n",
              "      <td>Arun Khopkar</td>\n",
              "      <td>Thomas Hobbes</td>\n",
              "      <td>Agatha Christie</td>\n",
              "      <td>Editors of Life</td>\n",
              "    </tr>\n",
              "    <tr>\n",
              "      <th>Edition</th>\n",
              "      <td>Paperback,– 10 Mar 2016</td>\n",
              "      <td>Paperback,– 7 Nov 2012</td>\n",
              "      <td>Paperback,– 25 Feb 1982</td>\n",
              "      <td>Paperback,– 5 Oct 2017</td>\n",
              "      <td>Hardcover,– 10 Oct 2006</td>\n",
              "    </tr>\n",
              "    <tr>\n",
              "      <th>Reviews</th>\n",
              "      <td>4.0 out of 5 stars</td>\n",
              "      <td>3.9 out of 5 stars</td>\n",
              "      <td>4.8 out of 5 stars</td>\n",
              "      <td>4.1 out of 5 stars</td>\n",
              "      <td>5.0 out of 5 stars</td>\n",
              "    </tr>\n",
              "    <tr>\n",
              "      <th>Ratings</th>\n",
              "      <td>8 customer reviews</td>\n",
              "      <td>14 customer reviews</td>\n",
              "      <td>6 customer reviews</td>\n",
              "      <td>13 customer reviews</td>\n",
              "      <td>1 customer review</td>\n",
              "    </tr>\n",
              "    <tr>\n",
              "      <th>Synopsis</th>\n",
              "      <td>THE HUNTERS return in their third brilliant no...</td>\n",
              "      <td>A layered portrait of a troubled genius for wh...</td>\n",
              "      <td>\"During the time men live without a common Pow...</td>\n",
              "      <td>A handful of grain is found in the pocket of a...</td>\n",
              "      <td>For seven decades, \"Life\" has been thrilling t...</td>\n",
              "    </tr>\n",
              "    <tr>\n",
              "      <th>Genre</th>\n",
              "      <td>Action &amp; Adventure (Books)</td>\n",
              "      <td>Cinema &amp; Broadcast (Books)</td>\n",
              "      <td>International Relations</td>\n",
              "      <td>Contemporary Fiction (Books)</td>\n",
              "      <td>Photography Textbooks</td>\n",
              "    </tr>\n",
              "    <tr>\n",
              "      <th>BookCategory</th>\n",
              "      <td>Action &amp; Adventure</td>\n",
              "      <td>Biographies, Diaries &amp; True Accounts</td>\n",
              "      <td>Humour</td>\n",
              "      <td>Crime, Thriller &amp; Mystery</td>\n",
              "      <td>Arts, Film &amp; Photography</td>\n",
              "    </tr>\n",
              "    <tr>\n",
              "      <th>Price</th>\n",
              "      <td>220</td>\n",
              "      <td>202.93</td>\n",
              "      <td>299</td>\n",
              "      <td>180</td>\n",
              "      <td>965.62</td>\n",
              "    </tr>\n",
              "  </tbody>\n",
              "</table>\n",
              "</div>"
            ],
            "text/plain": [
              "                                                              0  ...                                                  4\n",
              "Title                       The Prisoner's Gold (The Hunters 3)  ...         LIFE 70 Years of Extraordinary Photography\n",
              "Author                                           Chris Kuzneski  ...                                    Editors of Life\n",
              "Edition                                 Paperback,– 10 Mar 2016  ...                            Hardcover,– 10 Oct 2006\n",
              "Reviews                                      4.0 out of 5 stars  ...                                 5.0 out of 5 stars\n",
              "Ratings                                      8 customer reviews  ...                                  1 customer review\n",
              "Synopsis      THE HUNTERS return in their third brilliant no...  ...  For seven decades, \"Life\" has been thrilling t...\n",
              "Genre                                Action & Adventure (Books)  ...                              Photography Textbooks\n",
              "BookCategory                                 Action & Adventure  ...                           Arts, Film & Photography\n",
              "Price                                                       220  ...                                             965.62\n",
              "\n",
              "[9 rows x 5 columns]"
            ]
          },
          "metadata": {
            "tags": []
          },
          "execution_count": 172
        }
      ]
    },
    {
      "cell_type": "code",
      "metadata": {
        "id": "Z8wTo3T6XXCh",
        "colab_type": "code",
        "colab": {
          "base_uri": "https://localhost:8080/",
          "height": 221
        },
        "outputId": "ec6b2c0d-efbe-4e31-e88a-e2bb4eab5c14"
      },
      "source": [
        "print(train.Title)"
      ],
      "execution_count": 173,
      "outputs": [
        {
          "output_type": "stream",
          "text": [
            "0                     The Prisoner's Gold (The Hunters 3)\n",
            "1                      Guru Dutt: A Tragedy in Three Acts\n",
            "2                            Leviathan (Penguin Classics)\n",
            "3                      A Pocket Full of Rye (Miss Marple)\n",
            "4              LIFE 70 Years of Extraordinary Photography\n",
            "                              ...                        \n",
            "6232    Humans: A Brief History of How We F*cked It Al...\n",
            "6233                                          The Chemist\n",
            "6234    The Duke And I: Number 1 in series (Bridgerton...\n",
            "6235                         Frostfire (Kanin Chronicles)\n",
            "6236                          The First Order (Sam Capra)\n",
            "Name: Title, Length: 6237, dtype: object\n"
          ],
          "name": "stdout"
        }
      ]
    },
    {
      "cell_type": "code",
      "metadata": {
        "id": "iAL79yzuXtFl",
        "colab_type": "code",
        "colab": {}
      },
      "source": [
        "#combining test and train for cleaning\n",
        "\n",
        "combined = pd.concat([train, test], sort=False)\n",
        "combined.reset_index(drop=True, inplace=True)"
      ],
      "execution_count": 174,
      "outputs": []
    },
    {
      "cell_type": "code",
      "metadata": {
        "id": "28X8NZLscryf",
        "colab_type": "code",
        "colab": {
          "base_uri": "https://localhost:8080/",
          "height": 34
        },
        "outputId": "d47a1be6-0ece-40c9-e866-a0ff6b8196dd"
      },
      "source": [
        "combined.index"
      ],
      "execution_count": 175,
      "outputs": [
        {
          "output_type": "execute_result",
          "data": {
            "text/plain": [
              "RangeIndex(start=0, stop=7797, step=1)"
            ]
          },
          "metadata": {
            "tags": []
          },
          "execution_count": 175
        }
      ]
    },
    {
      "cell_type": "code",
      "metadata": {
        "id": "lFSZSXhwc4o5",
        "colab_type": "code",
        "colab": {
          "base_uri": "https://localhost:8080/",
          "height": 340
        },
        "outputId": "e646446f-b3b0-4df3-96a9-cc9244ee4b13"
      },
      "source": [
        "combined.values"
      ],
      "execution_count": 176,
      "outputs": [
        {
          "output_type": "execute_result",
          "data": {
            "text/plain": [
              "array([[\"The Prisoner's Gold (The Hunters 3)\", 'Chris Kuzneski',\n",
              "        'Paperback,– 10 Mar 2016', ..., 'Action & Adventure (Books)',\n",
              "        'Action & Adventure', 220.0],\n",
              "       ['Guru Dutt: A Tragedy in Three Acts', 'Arun Khopkar',\n",
              "        'Paperback,– 7 Nov 2012', ..., 'Cinema & Broadcast (Books)',\n",
              "        'Biographies, Diaries & True Accounts', 202.93],\n",
              "       ['Leviathan (Penguin Classics)', 'Thomas Hobbes',\n",
              "        'Paperback,– 25 Feb 1982', ..., 'International Relations',\n",
              "        'Humour', 299.0],\n",
              "       ...,\n",
              "       ['The Kite Runner Graphic Novel', 'Khaled Hosseini',\n",
              "        'Paperback,– 6 Sep 2011', ..., 'Humour (Books)', 'Humour', nan],\n",
              "       ['Panzer Leader (Penguin World War II Collection)',\n",
              "        'Heinz Guderian', 'Paperback,– 22 Sep 2009', ...,\n",
              "        'United States History', 'Biographies, Diaries & True Accounts',\n",
              "        nan],\n",
              "       ['Complete Spanish Step-by-Step', 'Barbara Bregstein',\n",
              "        'Paperback,– 16 Sep 2016', ..., 'Dictionaries',\n",
              "        'Language, Linguistics & Writing', nan]], dtype=object)"
            ]
          },
          "metadata": {
            "tags": []
          },
          "execution_count": 176
        }
      ]
    },
    {
      "cell_type": "code",
      "metadata": {
        "id": "dKiZ-41cdRo4",
        "colab_type": "code",
        "colab": {
          "base_uri": "https://localhost:8080/",
          "height": 34
        },
        "outputId": "5c3af60b-5c24-4b01-9677-80229095c928"
      },
      "source": [
        "combined.shape"
      ],
      "execution_count": 177,
      "outputs": [
        {
          "output_type": "execute_result",
          "data": {
            "text/plain": [
              "(7797, 9)"
            ]
          },
          "metadata": {
            "tags": []
          },
          "execution_count": 177
        }
      ]
    },
    {
      "cell_type": "code",
      "metadata": {
        "id": "_eXyLpZRdidJ",
        "colab_type": "code",
        "colab": {
          "base_uri": "https://localhost:8080/",
          "height": 289
        },
        "outputId": "2e910cdd-e228-4d42-ca5b-9b5fa4bb5e12"
      },
      "source": [
        "combined.info() #confirms no missing data"
      ],
      "execution_count": 178,
      "outputs": [
        {
          "output_type": "stream",
          "text": [
            "<class 'pandas.core.frame.DataFrame'>\n",
            "RangeIndex: 7797 entries, 0 to 7796\n",
            "Data columns (total 9 columns):\n",
            " #   Column        Non-Null Count  Dtype  \n",
            "---  ------        --------------  -----  \n",
            " 0   Title         7797 non-null   object \n",
            " 1   Author        7797 non-null   object \n",
            " 2   Edition       7797 non-null   object \n",
            " 3   Reviews       7797 non-null   object \n",
            " 4   Ratings       7797 non-null   object \n",
            " 5   Synopsis      7797 non-null   object \n",
            " 6   Genre         7797 non-null   object \n",
            " 7   BookCategory  7797 non-null   object \n",
            " 8   Price         6237 non-null   float64\n",
            "dtypes: float64(1), object(8)\n",
            "memory usage: 548.4+ KB\n"
          ],
          "name": "stdout"
        }
      ]
    },
    {
      "cell_type": "code",
      "metadata": {
        "id": "hF-zL_cmrNGb",
        "colab_type": "code",
        "colab": {}
      },
      "source": [
        "combined['Reviews_values'] = combined['Reviews'].str.split(' ').str.get(0).astype(float)\n",
        "combined['Rating_values'] = combined['Ratings'].str.split(' ').str.get(0).str.replace(',','').astype(float)"
      ],
      "execution_count": 179,
      "outputs": []
    },
    {
      "cell_type": "code",
      "metadata": {
        "id": "oDzJ-Zxe6g0N",
        "colab_type": "code",
        "colab": {
          "base_uri": "https://localhost:8080/",
          "height": 85
        },
        "outputId": "7ee8ec99-43d1-4e74-c933-b48c2717a4d2"
      },
      "source": [
        "combined[['Issue_type','Issue_date']] = combined['Edition'].str.split(',– ',expand=True)\n",
        "\n",
        "combined['Issue_type'] = combined.Issue_type.str.extract(r'(^[a-zA-Z|\\s]*)')[0]\n",
        "#.unique()\n",
        "#.value_counts()\n",
        "combined['Issue_type'].unique()"
      ],
      "execution_count": 180,
      "outputs": [
        {
          "output_type": "execute_result",
          "data": {
            "text/plain": [
              "array(['Paperback', 'Hardcover', 'Mass Market Paperback', 'Sheet music',\n",
              "       'Flexibound', 'Plastic Comb', 'Loose Leaf', 'Tankobon Softcover',\n",
              "       'Perfect Paperback', 'Board book', 'Cards', 'Spiral', '',\n",
              "       'Product Bundle', 'Library Binding', 'Leather Bound'], dtype=object)"
            ]
          },
          "metadata": {
            "tags": []
          },
          "execution_count": 180
        }
      ]
    },
    {
      "cell_type": "code",
      "metadata": {
        "id": "Dx853GBs7mHa",
        "colab_type": "code",
        "colab": {
          "base_uri": "https://localhost:8080/",
          "height": 238
        },
        "outputId": "05c0ca11-ded6-4ce4-eecf-984700fbb93d"
      },
      "source": [
        "#Month & Year\n",
        "combined['Issue_year'] = combined.Issue_date.str[-4:]\n",
        "\n",
        "combined['Issue_month'] = pd.to_datetime(combined['Issue_date'], errors='coerce').dt.month\n",
        "\n",
        "combined['Issue_month'].value_counts()"
      ],
      "execution_count": 181,
      "outputs": [
        {
          "output_type": "execute_result",
          "data": {
            "text/plain": [
              "1.0     976\n",
              "10.0    706\n",
              "9.0     605\n",
              "5.0     586\n",
              "11.0    562\n",
              "4.0     526\n",
              "6.0     518\n",
              "3.0     502\n",
              "7.0     489\n",
              "8.0     475\n",
              "12.0    435\n",
              "2.0     428\n",
              "Name: Issue_month, dtype: int64"
            ]
          },
          "metadata": {
            "tags": []
          },
          "execution_count": 181
        }
      ]
    },
    {
      "cell_type": "code",
      "metadata": {
        "id": "iJm-aQkm9Lgd",
        "colab_type": "code",
        "colab": {}
      },
      "source": [
        "combined['Genre'] = combined['Genre'].str.replace(r\"\\(.*\\)\",\"\")  #removing '(Books)' from Genre "
      ],
      "execution_count": 182,
      "outputs": []
    },
    {
      "cell_type": "code",
      "metadata": {
        "id": "u7JyUYRHGRHP",
        "colab_type": "code",
        "colab": {
          "base_uri": "https://localhost:8080/",
          "height": 111
        },
        "outputId": "9e6207ed-f3e9-4d7b-fdc6-3ff5bf1cbfd4"
      },
      "source": [
        "combined.describe(include = 'all').head(2)"
      ],
      "execution_count": 183,
      "outputs": [
        {
          "output_type": "execute_result",
          "data": {
            "text/html": [
              "<div>\n",
              "<style scoped>\n",
              "    .dataframe tbody tr th:only-of-type {\n",
              "        vertical-align: middle;\n",
              "    }\n",
              "\n",
              "    .dataframe tbody tr th {\n",
              "        vertical-align: top;\n",
              "    }\n",
              "\n",
              "    .dataframe thead th {\n",
              "        text-align: right;\n",
              "    }\n",
              "</style>\n",
              "<table border=\"1\" class=\"dataframe\">\n",
              "  <thead>\n",
              "    <tr style=\"text-align: right;\">\n",
              "      <th></th>\n",
              "      <th>Title</th>\n",
              "      <th>Author</th>\n",
              "      <th>Edition</th>\n",
              "      <th>Reviews</th>\n",
              "      <th>Ratings</th>\n",
              "      <th>Synopsis</th>\n",
              "      <th>Genre</th>\n",
              "      <th>BookCategory</th>\n",
              "      <th>Price</th>\n",
              "      <th>Reviews_values</th>\n",
              "      <th>Rating_values</th>\n",
              "      <th>Issue_type</th>\n",
              "      <th>Issue_date</th>\n",
              "      <th>Issue_year</th>\n",
              "      <th>Issue_month</th>\n",
              "    </tr>\n",
              "  </thead>\n",
              "  <tbody>\n",
              "    <tr>\n",
              "      <th>count</th>\n",
              "      <td>7797</td>\n",
              "      <td>7797</td>\n",
              "      <td>7797</td>\n",
              "      <td>7797</td>\n",
              "      <td>7797</td>\n",
              "      <td>7797</td>\n",
              "      <td>7797</td>\n",
              "      <td>7797</td>\n",
              "      <td>6237.0</td>\n",
              "      <td>7797.0</td>\n",
              "      <td>7797.0</td>\n",
              "      <td>7797</td>\n",
              "      <td>7797</td>\n",
              "      <td>7797</td>\n",
              "      <td>6808.0</td>\n",
              "    </tr>\n",
              "    <tr>\n",
              "      <th>unique</th>\n",
              "      <td>6787</td>\n",
              "      <td>4372</td>\n",
              "      <td>3882</td>\n",
              "      <td>36</td>\n",
              "      <td>368</td>\n",
              "      <td>6771</td>\n",
              "      <td>363</td>\n",
              "      <td>11</td>\n",
              "      <td>NaN</td>\n",
              "      <td>NaN</td>\n",
              "      <td>NaN</td>\n",
              "      <td>16</td>\n",
              "      <td>3332</td>\n",
              "      <td>67</td>\n",
              "      <td>NaN</td>\n",
              "    </tr>\n",
              "  </tbody>\n",
              "</table>\n",
              "</div>"
            ],
            "text/plain": [
              "       Title Author Edition  ... Issue_date Issue_year Issue_month\n",
              "count   7797   7797    7797  ...       7797       7797      6808.0\n",
              "unique  6787   4372    3882  ...       3332         67         NaN\n",
              "\n",
              "[2 rows x 15 columns]"
            ]
          },
          "metadata": {
            "tags": []
          },
          "execution_count": 183
        }
      ]
    },
    {
      "cell_type": "code",
      "metadata": {
        "id": "lg2OTBE3LXO1",
        "colab_type": "code",
        "colab": {}
      },
      "source": [
        "combined['Rating_Ratio'] = round(combined['Rating_values']/combined['Reviews_values'], 2)"
      ],
      "execution_count": 184,
      "outputs": []
    },
    {
      "cell_type": "code",
      "metadata": {
        "id": "RX5DEyWTPvI3",
        "colab_type": "code",
        "colab": {
          "base_uri": "https://localhost:8080/",
          "height": 85
        },
        "outputId": "eefcba63-99ee-466d-d0e4-b388919bcdb3"
      },
      "source": [
        "combined['Issue_type'].unique()"
      ],
      "execution_count": 185,
      "outputs": [
        {
          "output_type": "execute_result",
          "data": {
            "text/plain": [
              "array(['Paperback', 'Hardcover', 'Mass Market Paperback', 'Sheet music',\n",
              "       'Flexibound', 'Plastic Comb', 'Loose Leaf', 'Tankobon Softcover',\n",
              "       'Perfect Paperback', 'Board book', 'Cards', 'Spiral', '',\n",
              "       'Product Bundle', 'Library Binding', 'Leather Bound'], dtype=object)"
            ]
          },
          "metadata": {
            "tags": []
          },
          "execution_count": 185
        }
      ]
    },
    {
      "cell_type": "code",
      "metadata": {
        "id": "NskyQPGrDVlZ",
        "colab_type": "code",
        "colab": {}
      },
      "source": [
        "author_replacements = {' & ':', ',\"0\":\"other\",\"2\":\"other\",'A. P. J. Abdul Kalam':'A.P.J. Abdul Kalam','APJ Abdul Kalam':'A.P.J. Abdul Kalam','Agrawal P. K.': 'Agrawal P.K','Ajay K Pandey': 'Ajay K. Pandey','Aravinda Anantharaman': 'Aravinda Anatharaman','Arthur Conan Doyle': 'Sir Arthur Conan Doyle','B A Paris': 'B. A. Paris','E L James': 'E. L. James','E.L. James':'E. L. James','Eliyahu M Goldratt': 'Eliyahu M. Goldratt','Ernest Hemingway': 'Ernest Hemmingway','Frank Miler': 'Frank Miller','Fyodor Dostoevsky': 'Fyodor Dostoyevsky','George R R Martin': 'George R. R. Martin','George R.R. Martin':'George R. R. Martin','H. G. Wells': 'H.G. Wells','Johann Wolfgang Von Goethe': 'Johann Wolfgang von Goethe','John Le Carré': 'John le Carré','Judith McNaught': 'Judith Mcnaught','Keith Giffen': 'Kieth Giffen','Ken Hultgen': 'Ken Hultgren','Kentaro Miura': 'Kenturo Miura','Kohei Horikoshi': 'Kouhei Horikoshi','M.K Gandhi': 'M.K. Gandhi','Matthew K Manning': 'Matthew Manning','Michael Crichton': 'Micheal Crichton','N.K Aggarwala': 'N.K. Aggarwala','Oxford University Press (India)': 'Oxford University Press India','P D James': 'P. D. James','Paramahansa Yogananda': 'Paramhansa Yogananda','R K Laxman': 'R. K. Laxman','R.K. Laxman': 'R. K. Laxman','R. M. Lala': 'R.M. Lala','Raina Telgemaeier': 'Raina Telgemeier','Rajaraman': 'Rajaraman V','Rajiv M. Vijayakar': 'Rajiv Vijayakar','Ramachandra Guha': 'Ramchandra Guha','Rene Goscinny': 'René Goscinny','Richard P Feynman': 'Richard P. Feynman','S Giridhar': 'S. Giridhar','S Hussain Zaidi': 'S. Hussain Zaidi','S. A. Chakraborty': 'S. Chakraborty','Santosh Kumar K': 'Santosh Kumar K.',\"S.C. Gupta\" : \"S. C. Gupta\",'Shiv Prasad Koirala': 'Shivprasad Koirala','Shivaprasad Koirala': 'Shivprasad Koirala','Simone De Beauvoir': 'Simone de Beauvoir','Sir Arthur Conan Doyle': 'Arthur Conan Doyle',\"Terry O' Brien\": \"Terry O'Brien\",'Thich Nhat Hahn': 'Thich Nhat Hanh','Trinity College Lond': 'Trinity College London',\"Trinity College London Press\" : \"Trinity College London\",'Ursula K. Le Guin': 'Ursula Le Guin','Willard A Palmer': 'Willard A. Palmer','Willard Palmer': 'Willard A. Palmer','William Strunk Jr': 'William Strunk Jr.','Yashavant Kanetakr': 'Yashavant Kanetkar','Yashavant P. Kanetkar': 'Yashavant Kanetkar','Yashwant Kanetkar': 'Yashavant Kanetkar','et al': 'et al.',' et al': 'et al.','Peter Clutterbuck': ' Peter Clutterbuck','Scholastic': 'Scholastic ','Ullekh N. P.': 'Ullekh N.P.','Shalini Jain': 'Dr. Shalini Jain','Kevin Mitnick': 'Kevin D. Mitnick'}\n",
        "combined['Author'] = combined['Author'].replace(author_replacements,regex=True)"
      ],
      "execution_count": 186,
      "outputs": []
    },
    {
      "cell_type": "code",
      "metadata": {
        "id": "B2enExW0wSjk",
        "colab_type": "code",
        "colab": {
          "base_uri": "https://localhost:8080/",
          "height": 306
        },
        "outputId": "6aecebe9-cca8-40ca-9262-3b86a8417fd3"
      },
      "source": [
        "combined.head(5)"
      ],
      "execution_count": 187,
      "outputs": [
        {
          "output_type": "execute_result",
          "data": {
            "text/html": [
              "<div>\n",
              "<style scoped>\n",
              "    .dataframe tbody tr th:only-of-type {\n",
              "        vertical-align: middle;\n",
              "    }\n",
              "\n",
              "    .dataframe tbody tr th {\n",
              "        vertical-align: top;\n",
              "    }\n",
              "\n",
              "    .dataframe thead th {\n",
              "        text-align: right;\n",
              "    }\n",
              "</style>\n",
              "<table border=\"1\" class=\"dataframe\">\n",
              "  <thead>\n",
              "    <tr style=\"text-align: right;\">\n",
              "      <th></th>\n",
              "      <th>Title</th>\n",
              "      <th>Author</th>\n",
              "      <th>Edition</th>\n",
              "      <th>Reviews</th>\n",
              "      <th>Ratings</th>\n",
              "      <th>Synopsis</th>\n",
              "      <th>Genre</th>\n",
              "      <th>BookCategory</th>\n",
              "      <th>Price</th>\n",
              "      <th>Reviews_values</th>\n",
              "      <th>Rating_values</th>\n",
              "      <th>Issue_type</th>\n",
              "      <th>Issue_date</th>\n",
              "      <th>Issue_year</th>\n",
              "      <th>Issue_month</th>\n",
              "      <th>Rating_Ratio</th>\n",
              "    </tr>\n",
              "  </thead>\n",
              "  <tbody>\n",
              "    <tr>\n",
              "      <th>0</th>\n",
              "      <td>The Prisoner's Gold (The Hunters 3)</td>\n",
              "      <td>Chris Kuzneski</td>\n",
              "      <td>Paperback,– 10 Mar 2016</td>\n",
              "      <td>4.0 out of 5 stars</td>\n",
              "      <td>8 customer reviews</td>\n",
              "      <td>THE HUNTERS return in their third brilliant no...</td>\n",
              "      <td>Action &amp; Adventure</td>\n",
              "      <td>Action &amp; Adventure</td>\n",
              "      <td>220.00</td>\n",
              "      <td>4.0</td>\n",
              "      <td>8.0</td>\n",
              "      <td>Paperback</td>\n",
              "      <td>10 Mar 2016</td>\n",
              "      <td>2016</td>\n",
              "      <td>3.0</td>\n",
              "      <td>2.00</td>\n",
              "    </tr>\n",
              "    <tr>\n",
              "      <th>1</th>\n",
              "      <td>Guru Dutt: A Tragedy in Three Acts</td>\n",
              "      <td>Arun Khopkar</td>\n",
              "      <td>Paperback,– 7 Nov 2012</td>\n",
              "      <td>3.9 out of 5 stars</td>\n",
              "      <td>14 customer reviews</td>\n",
              "      <td>A layered portrait of a troubled genius for wh...</td>\n",
              "      <td>Cinema &amp; Broadcast</td>\n",
              "      <td>Biographies, Diaries &amp; True Accounts</td>\n",
              "      <td>202.93</td>\n",
              "      <td>3.9</td>\n",
              "      <td>14.0</td>\n",
              "      <td>Paperback</td>\n",
              "      <td>7 Nov 2012</td>\n",
              "      <td>2012</td>\n",
              "      <td>11.0</td>\n",
              "      <td>3.59</td>\n",
              "    </tr>\n",
              "    <tr>\n",
              "      <th>2</th>\n",
              "      <td>Leviathan (Penguin Classics)</td>\n",
              "      <td>Thomas Hobbes</td>\n",
              "      <td>Paperback,– 25 Feb 1982</td>\n",
              "      <td>4.8 out of 5 stars</td>\n",
              "      <td>6 customer reviews</td>\n",
              "      <td>\"During the time men live without a common Pow...</td>\n",
              "      <td>International Relations</td>\n",
              "      <td>Humour</td>\n",
              "      <td>299.00</td>\n",
              "      <td>4.8</td>\n",
              "      <td>6.0</td>\n",
              "      <td>Paperback</td>\n",
              "      <td>25 Feb 1982</td>\n",
              "      <td>1982</td>\n",
              "      <td>2.0</td>\n",
              "      <td>1.25</td>\n",
              "    </tr>\n",
              "    <tr>\n",
              "      <th>3</th>\n",
              "      <td>A Pocket Full of Rye (Miss Marple)</td>\n",
              "      <td>Agatha Christie</td>\n",
              "      <td>Paperback,– 5 Oct 2017</td>\n",
              "      <td>4.1 out of 5 stars</td>\n",
              "      <td>13 customer reviews</td>\n",
              "      <td>A handful of grain is found in the pocket of a...</td>\n",
              "      <td>Contemporary Fiction</td>\n",
              "      <td>Crime, Thriller &amp; Mystery</td>\n",
              "      <td>180.00</td>\n",
              "      <td>4.1</td>\n",
              "      <td>13.0</td>\n",
              "      <td>Paperback</td>\n",
              "      <td>5 Oct 2017</td>\n",
              "      <td>2017</td>\n",
              "      <td>10.0</td>\n",
              "      <td>3.17</td>\n",
              "    </tr>\n",
              "    <tr>\n",
              "      <th>4</th>\n",
              "      <td>LIFE 70 Years of Extraordinary Photography</td>\n",
              "      <td>Editors of Life</td>\n",
              "      <td>Hardcover,– 10 Oct 2006</td>\n",
              "      <td>5.0 out of 5 stars</td>\n",
              "      <td>1 customer review</td>\n",
              "      <td>For seven decades, \"Life\" has been thrilling t...</td>\n",
              "      <td>Photography Textbooks</td>\n",
              "      <td>Arts, Film &amp; Photography</td>\n",
              "      <td>965.62</td>\n",
              "      <td>5.0</td>\n",
              "      <td>1.0</td>\n",
              "      <td>Hardcover</td>\n",
              "      <td>10 Oct 2006</td>\n",
              "      <td>2006</td>\n",
              "      <td>10.0</td>\n",
              "      <td>0.20</td>\n",
              "    </tr>\n",
              "  </tbody>\n",
              "</table>\n",
              "</div>"
            ],
            "text/plain": [
              "                                        Title  ... Rating_Ratio\n",
              "0         The Prisoner's Gold (The Hunters 3)  ...         2.00\n",
              "1          Guru Dutt: A Tragedy in Three Acts  ...         3.59\n",
              "2                Leviathan (Penguin Classics)  ...         1.25\n",
              "3          A Pocket Full of Rye (Miss Marple)  ...         3.17\n",
              "4  LIFE 70 Years of Extraordinary Photography  ...         0.20\n",
              "\n",
              "[5 rows x 16 columns]"
            ]
          },
          "metadata": {
            "tags": []
          },
          "execution_count": 187
        }
      ]
    },
    {
      "cell_type": "code",
      "metadata": {
        "id": "wNzIpPVKN0Br",
        "colab_type": "code",
        "colab": {}
      },
      "source": [
        "#Dropping Columns\n",
        "\n",
        "#df_modified.drop(['Edition','Reviews','Ratings'], axis=1, inplace=True)"
      ],
      "execution_count": 188,
      "outputs": []
    },
    {
      "cell_type": "code",
      "metadata": {
        "id": "dB0K3-aKRQqJ",
        "colab_type": "code",
        "colab": {}
      },
      "source": [
        "\n",
        "#converting into categorical data\n",
        "\n",
        "#df_modified[\"Book_Type\"] = df_modified[\"Book_Type\"].astype('category')\n",
        "#df_modified.dtypes\n"
      ],
      "execution_count": 189,
      "outputs": []
    },
    {
      "cell_type": "code",
      "metadata": {
        "id": "hsH1x8R9TRqK",
        "colab_type": "code",
        "colab": {}
      },
      "source": [
        "\n",
        "#label encoding\n",
        "\n",
        "#df_modified['Book_Type_Cat'] = df_modified[\"Book_Type\"].cat.codes\n"
      ],
      "execution_count": 190,
      "outputs": []
    },
    {
      "cell_type": "code",
      "metadata": {
        "id": "MAB6gW6ETRnb",
        "colab_type": "code",
        "colab": {
          "base_uri": "https://localhost:8080/",
          "height": 187
        },
        "outputId": "63158e7c-afc5-431c-d062-ac2e2b9c7d65"
      },
      "source": [
        "train.isnull().sum()"
      ],
      "execution_count": 191,
      "outputs": [
        {
          "output_type": "execute_result",
          "data": {
            "text/plain": [
              "Title           0\n",
              "Author          0\n",
              "Edition         0\n",
              "Reviews         0\n",
              "Ratings         0\n",
              "Synopsis        0\n",
              "Genre           0\n",
              "BookCategory    0\n",
              "Price           0\n",
              "dtype: int64"
            ]
          },
          "metadata": {
            "tags": []
          },
          "execution_count": 191
        }
      ]
    },
    {
      "cell_type": "code",
      "metadata": {
        "id": "PaQgoMiMJn6S",
        "colab_type": "code",
        "colab": {}
      },
      "source": [
        ""
      ],
      "execution_count": 191,
      "outputs": []
    },
    {
      "cell_type": "markdown",
      "metadata": {
        "id": "xaltZHyVeBwp",
        "colab_type": "text"
      },
      "source": [
        "Machine Learning\n"
      ]
    },
    {
      "cell_type": "code",
      "metadata": {
        "id": "OngOSZo0eERW",
        "colab_type": "code",
        "colab": {}
      },
      "source": [
        ""
      ],
      "execution_count": 191,
      "outputs": []
    },
    {
      "cell_type": "code",
      "metadata": {
        "id": "N1fn6G18prqr",
        "colab_type": "code",
        "colab": {}
      },
      "source": [
        ""
      ],
      "execution_count": 191,
      "outputs": []
    }
  ]
}