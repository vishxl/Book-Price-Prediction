{
  "nbformat": 4,
  "nbformat_minor": 0,
  "metadata": {
    "colab": {
      "name": "BookPriceFinal",
      "provenance": [],
      "collapsed_sections": [],
      "authorship_tag": "ABX9TyMS9GA7j+ABFUrvdUnVitcQ",
      "include_colab_link": true
    },
    "kernelspec": {
      "name": "python3",
      "display_name": "Python 3"
    }
  },
  "cells": [
    {
      "cell_type": "markdown",
      "metadata": {
        "id": "view-in-github",
        "colab_type": "text"
      },
      "source": [
        "<a href=\"https://colab.research.google.com/github/vishxl/Book-Price-Prediction/blob/master/Cleaning.ipynb\" target=\"_parent\"><img src=\"https://colab.research.google.com/assets/colab-badge.svg\" alt=\"Open In Colab\"/></a>"
      ]
    },
    {
      "cell_type": "code",
      "metadata": {
        "id": "kCS_yMlVSdOM",
        "colab_type": "code",
        "colab": {}
      },
      "source": [
        "import requests, zipfile, io\n",
        "r = requests.get( 'https://github.com/vishxl/Book-Price-Prediction/blob/master/Data.zip?raw=true' ) \n",
        "z = zipfile.ZipFile(io.BytesIO(r.content)) \n",
        "z.extractall()"
      ],
      "execution_count": 493,
      "outputs": []
    },
    {
      "cell_type": "code",
      "metadata": {
        "id": "idsby2uNWoF8",
        "colab_type": "code",
        "colab": {}
      },
      "source": [
        "import pandas as pd\n",
        "import numpy as np"
      ],
      "execution_count": 494,
      "outputs": []
    },
    {
      "cell_type": "code",
      "metadata": {
        "id": "L31AGdjzXIKX",
        "colab_type": "code",
        "colab": {}
      },
      "source": [
        "train = pd.read_excel('Participants_Data/Data_Train.xlsx')\n",
        "test = pd.read_excel('Participants_Data/Data_Test.xlsx')\n",
        "\n",
        "sub = pd.read_excel('Participants_Data/Sample_Submission.xlsx')"
      ],
      "execution_count": 495,
      "outputs": []
    },
    {
      "cell_type": "code",
      "metadata": {
        "id": "iAL79yzuXtFl",
        "colab_type": "code",
        "colab": {}
      },
      "source": [
        "#combining test and train for cleaning\n",
        "\n",
        "combined = pd.concat([train, test], sort=False)\n",
        "combined.reset_index(drop=True, inplace=True)"
      ],
      "execution_count": 496,
      "outputs": []
    },
    {
      "cell_type": "code",
      "metadata": {
        "id": "28X8NZLscryf",
        "colab_type": "code",
        "colab": {}
      },
      "source": [
        "#combined.index"
      ],
      "execution_count": 497,
      "outputs": []
    },
    {
      "cell_type": "code",
      "metadata": {
        "id": "dKiZ-41cdRo4",
        "colab_type": "code",
        "colab": {
          "base_uri": "https://localhost:8080/",
          "height": 34
        },
        "outputId": "94a3096a-1e74-4258-ee2b-be7486d6b2b4"
      },
      "source": [
        "combined.shape"
      ],
      "execution_count": 498,
      "outputs": [
        {
          "output_type": "execute_result",
          "data": {
            "text/plain": [
              "(7797, 9)"
            ]
          },
          "metadata": {
            "tags": []
          },
          "execution_count": 498
        }
      ]
    },
    {
      "cell_type": "code",
      "metadata": {
        "id": "_eXyLpZRdidJ",
        "colab_type": "code",
        "colab": {
          "base_uri": "https://localhost:8080/",
          "height": 289
        },
        "outputId": "14b0cdb6-76ad-43db-bbdb-5f8af3393862"
      },
      "source": [
        "combined.info() #confirms no missing data"
      ],
      "execution_count": 499,
      "outputs": [
        {
          "output_type": "stream",
          "text": [
            "<class 'pandas.core.frame.DataFrame'>\n",
            "RangeIndex: 7797 entries, 0 to 7796\n",
            "Data columns (total 9 columns):\n",
            " #   Column        Non-Null Count  Dtype  \n",
            "---  ------        --------------  -----  \n",
            " 0   Title         7797 non-null   object \n",
            " 1   Author        7797 non-null   object \n",
            " 2   Edition       7797 non-null   object \n",
            " 3   Reviews       7797 non-null   object \n",
            " 4   Ratings       7797 non-null   object \n",
            " 5   Synopsis      7797 non-null   object \n",
            " 6   Genre         7797 non-null   object \n",
            " 7   BookCategory  7797 non-null   object \n",
            " 8   Price         6237 non-null   float64\n",
            "dtypes: float64(1), object(8)\n",
            "memory usage: 548.4+ KB\n"
          ],
          "name": "stdout"
        }
      ]
    },
    {
      "cell_type": "code",
      "metadata": {
        "id": "hF-zL_cmrNGb",
        "colab_type": "code",
        "colab": {}
      },
      "source": [
        "combined['Reviews'] = combined['Reviews'].str.split(' ').str.get(0).astype(float)\n",
        "combined['Ratings'] = combined['Ratings'].str.split(' ').str.get(0).str.replace(',','').astype(float)"
      ],
      "execution_count": 500,
      "outputs": []
    },
    {
      "cell_type": "code",
      "metadata": {
        "id": "oDzJ-Zxe6g0N",
        "colab_type": "code",
        "colab": {
          "base_uri": "https://localhost:8080/",
          "height": 85
        },
        "outputId": "f13156da-45f9-43a0-ef38-26c3ecb98c9b"
      },
      "source": [
        "combined[['Issue_type','Issue_date']] = combined['Edition'].str.split(',– ',expand=True)\n",
        "\n",
        "combined['Issue_type'] = combined.Issue_type.str.extract(r'(^[a-zA-Z|\\s]*)')[0]\n",
        "#.unique()\n",
        "#.value_counts()\n",
        "combined['Issue_type'].unique()"
      ],
      "execution_count": 501,
      "outputs": [
        {
          "output_type": "execute_result",
          "data": {
            "text/plain": [
              "array(['Paperback', 'Hardcover', 'Mass Market Paperback', 'Sheet music',\n",
              "       'Flexibound', 'Plastic Comb', 'Loose Leaf', 'Tankobon Softcover',\n",
              "       'Perfect Paperback', 'Board book', 'Cards', 'Spiral', '',\n",
              "       'Product Bundle', 'Library Binding', 'Leather Bound'], dtype=object)"
            ]
          },
          "metadata": {
            "tags": []
          },
          "execution_count": 501
        }
      ]
    },
    {
      "cell_type": "code",
      "metadata": {
        "id": "Dx853GBs7mHa",
        "colab_type": "code",
        "colab": {}
      },
      "source": [
        "#Month & Year\n",
        "#combined['Issue_year'] = combined.Issue_date.str[-4:].astype(float) ##Alternative Method\n",
        "combined['Issue_year'] = combined.Issue_date.str.extract('.*(\\d{4})', expand = False).astype(float)\n",
        "combined['Issue_year'] = combined['Issue_year'].fillna((combined['Issue_year'].mean()), inplace=True)\n",
        "#combined['Year_null'] = combined.Issue_year.apply(lambda x: ('not_null' if x!= '' else 'null'))\n",
        "\n",
        "combined['Book_age'] = 2019 - combined['Issue_year']\n",
        "\n",
        "combined['Issue_month'] = pd.to_datetime(combined['Issue_date'], errors='coerce').dt.month\n",
        "\n",
        "#.fillna((combined['Issue_month'].mean()), inplace=True)\n",
        "#.astype(float)\n",
        "#combined['Issue_month'] = combined.Issue_month.fillna((combined['Issue_month'].mean()), inplace=True)"
      ],
      "execution_count": 502,
      "outputs": []
    },
    {
      "cell_type": "code",
      "metadata": {
        "id": "iJm-aQkm9Lgd",
        "colab_type": "code",
        "colab": {}
      },
      "source": [
        "#Genre\n",
        "combined['Genre'] = combined['Genre'].str.replace(r\"\\(.*\\)\",\"\")  #removing '(Books)' from Genre \n",
        "combined['Genre'] = combined['Genre'].str.replace(' &',',') #replace '&' with ,\n",
        "combined['Genre_count'] = combined['Genre'].apply(lambda x: len(x.split(',')))  #Counting Genre\n",
        "\n",
        "#BookCategory \n",
        "combined['BookCategory'] = combined['BookCategory'].str.replace(r\"\\(.*\\)\",\"\")  #removing '(Books)' from Genre \n",
        "combined['BookCategory'] = combined['BookCategory'].str.replace(' &',',') #replace '&' with ,\n",
        "combined['BookCategory_count'] = combined['BookCategory'].apply(lambda x: len(x.split(',')))"
      ],
      "execution_count": 503,
      "outputs": []
    },
    {
      "cell_type": "code",
      "metadata": {
        "id": "u7JyUYRHGRHP",
        "colab_type": "code",
        "colab": {
          "base_uri": "https://localhost:8080/",
          "height": 131
        },
        "outputId": "a39d23dc-7ad5-4742-9e9a-e1957a52883b"
      },
      "source": [
        "combined.describe(include = 'all').head(2)"
      ],
      "execution_count": 504,
      "outputs": [
        {
          "output_type": "execute_result",
          "data": {
            "text/html": [
              "<div>\n",
              "<style scoped>\n",
              "    .dataframe tbody tr th:only-of-type {\n",
              "        vertical-align: middle;\n",
              "    }\n",
              "\n",
              "    .dataframe tbody tr th {\n",
              "        vertical-align: top;\n",
              "    }\n",
              "\n",
              "    .dataframe thead th {\n",
              "        text-align: right;\n",
              "    }\n",
              "</style>\n",
              "<table border=\"1\" class=\"dataframe\">\n",
              "  <thead>\n",
              "    <tr style=\"text-align: right;\">\n",
              "      <th></th>\n",
              "      <th>Title</th>\n",
              "      <th>Author</th>\n",
              "      <th>Edition</th>\n",
              "      <th>Reviews</th>\n",
              "      <th>Ratings</th>\n",
              "      <th>Synopsis</th>\n",
              "      <th>Genre</th>\n",
              "      <th>BookCategory</th>\n",
              "      <th>Price</th>\n",
              "      <th>Issue_type</th>\n",
              "      <th>Issue_date</th>\n",
              "      <th>Issue_year</th>\n",
              "      <th>Book_age</th>\n",
              "      <th>Issue_month</th>\n",
              "      <th>Genre_count</th>\n",
              "      <th>BookCategory_count</th>\n",
              "    </tr>\n",
              "  </thead>\n",
              "  <tbody>\n",
              "    <tr>\n",
              "      <th>count</th>\n",
              "      <td>7797</td>\n",
              "      <td>7797</td>\n",
              "      <td>7797</td>\n",
              "      <td>7797.0</td>\n",
              "      <td>7797.0</td>\n",
              "      <td>7797</td>\n",
              "      <td>7797</td>\n",
              "      <td>7797</td>\n",
              "      <td>6237.0</td>\n",
              "      <td>7797</td>\n",
              "      <td>7797</td>\n",
              "      <td>0</td>\n",
              "      <td>0</td>\n",
              "      <td>6808.0</td>\n",
              "      <td>7797.0</td>\n",
              "      <td>7797.0</td>\n",
              "    </tr>\n",
              "    <tr>\n",
              "      <th>unique</th>\n",
              "      <td>6787</td>\n",
              "      <td>4372</td>\n",
              "      <td>3882</td>\n",
              "      <td>NaN</td>\n",
              "      <td>NaN</td>\n",
              "      <td>6771</td>\n",
              "      <td>363</td>\n",
              "      <td>11</td>\n",
              "      <td>NaN</td>\n",
              "      <td>16</td>\n",
              "      <td>3332</td>\n",
              "      <td>0</td>\n",
              "      <td>0</td>\n",
              "      <td>NaN</td>\n",
              "      <td>NaN</td>\n",
              "      <td>NaN</td>\n",
              "    </tr>\n",
              "  </tbody>\n",
              "</table>\n",
              "</div>"
            ],
            "text/plain": [
              "       Title Author Edition  ...  Issue_month  Genre_count BookCategory_count\n",
              "count   7797   7797    7797  ...       6808.0       7797.0             7797.0\n",
              "unique  6787   4372    3882  ...          NaN          NaN                NaN\n",
              "\n",
              "[2 rows x 16 columns]"
            ]
          },
          "metadata": {
            "tags": []
          },
          "execution_count": 504
        }
      ]
    },
    {
      "cell_type": "code",
      "metadata": {
        "id": "lg2OTBE3LXO1",
        "colab_type": "code",
        "colab": {}
      },
      "source": [
        "#combined['Rating_Ratio'] = round(combined['Rating_values']/combined['Reviews_values'], 2)\n",
        "combined['Net_Rating'] = round(combined['Ratings']*combined['Reviews'], 2)"
      ],
      "execution_count": 505,
      "outputs": []
    },
    {
      "cell_type": "code",
      "metadata": {
        "id": "euxzReu4zxTM",
        "colab_type": "code",
        "colab": {}
      },
      "source": [
        "#Authors\n",
        "author_replacements = {' & ':', ',\"0\":\"other\",\"2\":\"other\",'A. P. J. Abdul Kalam':'A.P.J. Abdul Kalam','APJ Abdul Kalam':'A.P.J. Abdul Kalam','Agrawal P. K.': 'Agrawal P.K','Ajay K Pandey': 'Ajay K. Pandey','Aravinda Anantharaman': 'Aravinda Anatharaman','Arthur Conan Doyle': 'Sir Arthur Conan Doyle','B A Paris': 'B. A. Paris','E L James': 'E. L. James','E.L. James':'E. L. James','Eliyahu M Goldratt': 'Eliyahu M. Goldratt','Ernest Hemingway': 'Ernest Hemmingway','Frank Miler': 'Frank Miller','Fyodor Dostoevsky': 'Fyodor Dostoyevsky','George R R Martin': 'George R. R. Martin','George R.R. Martin':'George R. R. Martin','H. G. Wells': 'H.G. Wells','Johann Wolfgang Von Goethe': 'Johann Wolfgang von Goethe','John Le Carré': 'John le Carré','Judith McNaught': 'Judith Mcnaught','Keith Giffen': 'Kieth Giffen','Ken Hultgen': 'Ken Hultgren','Kentaro Miura': 'Kenturo Miura','Kohei Horikoshi': 'Kouhei Horikoshi','M.K Gandhi': 'M.K. Gandhi','Matthew K Manning': 'Matthew Manning','Michael Crichton': 'Micheal Crichton','N.K Aggarwala': 'N.K. Aggarwala','Oxford University Press (India)': 'Oxford University Press India','P D James': 'P. D. James','Paramahansa Yogananda': 'Paramhansa Yogananda','R K Laxman': 'R. K. Laxman','R.K. Laxman': 'R. K. Laxman','R. M. Lala': 'R.M. Lala','Raina Telgemaeier': 'Raina Telgemeier','Rajaraman': 'Rajaraman V','Rajiv M. Vijayakar': 'Rajiv Vijayakar','Ramachandra Guha': 'Ramchandra Guha','Rene Goscinny': 'René Goscinny','Richard P Feynman': 'Richard P. Feynman','S Giridhar': 'S. Giridhar','S Hussain Zaidi': 'S. Hussain Zaidi','S. A. Chakraborty': 'S. Chakraborty','Santosh Kumar K': 'Santosh Kumar K.',\"S.C. Gupta\" : \"S. C. Gupta\",'Shiv Prasad Koirala': 'Shivprasad Koirala','Shivaprasad Koirala': 'Shivprasad Koirala','Simone De Beauvoir': 'Simone de Beauvoir','Sir Arthur Conan Doyle': 'Arthur Conan Doyle',\"Terry O' Brien\": \"Terry O'Brien\",'Thich Nhat Hahn': 'Thich Nhat Hanh','Trinity College Lond': 'Trinity College London',\"Trinity College London Press\" : \"Trinity College London\",'Ursula K. Le Guin': 'Ursula Le Guin','Willard A Palmer': 'Willard A. Palmer','Willard Palmer': 'Willard A. Palmer','William Strunk Jr': 'William Strunk Jr.','Yashavant Kanetakr': 'Yashavant Kanetkar','Yashavant P. Kanetkar': 'Yashavant Kanetkar','Yashwant Kanetkar': 'Yashavant Kanetkar','et al': 'et al.',' et al': 'et al.','Peter Clutterbuck': ' Peter Clutterbuck','Scholastic': 'Scholastic ','Ullekh N. P.': 'Ullekh N.P.','Shalini Jain': 'Dr. Shalini Jain','Kevin Mitnick': 'Kevin D. Mitnick'}\n",
        "combined['Author'] = combined['Author'].replace(author_replacements,regex=True)\n",
        "combined['Author_count'] = combined['Author'].apply(lambda x: len(x.split(',')))"
      ],
      "execution_count": 506,
      "outputs": []
    },
    {
      "cell_type": "code",
      "metadata": {
        "id": "NskyQPGrDVlZ",
        "colab_type": "code",
        "colab": {}
      },
      "source": [
        "#Dropping Columns\n",
        "#combined.drop(['Author_num'], axis=1, inplace=True)"
      ],
      "execution_count": 507,
      "outputs": []
    },
    {
      "cell_type": "code",
      "metadata": {
        "id": "CrL0p2Q6pT6a",
        "colab_type": "code",
        "colab": {}
      },
      "source": [
        "#number of books by an author\n",
        "#No_books_by_author = combined['Author'].value_counts()"
      ],
      "execution_count": 508,
      "outputs": []
    },
    {
      "cell_type": "markdown",
      "metadata": {
        "id": "wB96PIsUpTqM",
        "colab_type": "text"
      },
      "source": [
        ""
      ]
    },
    {
      "cell_type": "code",
      "metadata": {
        "id": "AReSPm1wLqOS",
        "colab_type": "code",
        "colab": {
          "base_uri": "https://localhost:8080/",
          "height": 102
        },
        "outputId": "c5dcae60-6761-4f2e-ed10-243916723646"
      },
      "source": [
        "#Average Rating of an Authors, books\n",
        "combined.columns"
      ],
      "execution_count": 509,
      "outputs": [
        {
          "output_type": "execute_result",
          "data": {
            "text/plain": [
              "Index(['Title', 'Author', 'Edition', 'Reviews', 'Ratings', 'Synopsis', 'Genre',\n",
              "       'BookCategory', 'Price', 'Issue_type', 'Issue_date', 'Issue_year',\n",
              "       'Book_age', 'Issue_month', 'Genre_count', 'BookCategory_count',\n",
              "       'Net_Rating', 'Author_count'],\n",
              "      dtype='object')"
            ]
          },
          "metadata": {
            "tags": []
          },
          "execution_count": 509
        }
      ]
    },
    {
      "cell_type": "code",
      "metadata": {
        "id": "4NVL8plvLqi7",
        "colab_type": "code",
        "colab": {}
      },
      "source": [
        "combined['Review_Impact']= combined['Reviews']*combined['Book_age']"
      ],
      "execution_count": 510,
      "outputs": []
    },
    {
      "cell_type": "code",
      "metadata": {
        "id": "eNmRAAqeLqu-",
        "colab_type": "code",
        "colab": {
          "base_uri": "https://localhost:8080/",
          "height": 1000
        },
        "outputId": "e1a76a63-e716-4f90-c73b-f5f3e8a9d27a"
      },
      "source": [
        "combined.head(-50)"
      ],
      "execution_count": 511,
      "outputs": [
        {
          "output_type": "execute_result",
          "data": {
            "text/html": [
              "<div>\n",
              "<style scoped>\n",
              "    .dataframe tbody tr th:only-of-type {\n",
              "        vertical-align: middle;\n",
              "    }\n",
              "\n",
              "    .dataframe tbody tr th {\n",
              "        vertical-align: top;\n",
              "    }\n",
              "\n",
              "    .dataframe thead th {\n",
              "        text-align: right;\n",
              "    }\n",
              "</style>\n",
              "<table border=\"1\" class=\"dataframe\">\n",
              "  <thead>\n",
              "    <tr style=\"text-align: right;\">\n",
              "      <th></th>\n",
              "      <th>Title</th>\n",
              "      <th>Author</th>\n",
              "      <th>Edition</th>\n",
              "      <th>Reviews</th>\n",
              "      <th>Ratings</th>\n",
              "      <th>Synopsis</th>\n",
              "      <th>Genre</th>\n",
              "      <th>BookCategory</th>\n",
              "      <th>Price</th>\n",
              "      <th>Issue_type</th>\n",
              "      <th>Issue_date</th>\n",
              "      <th>Issue_year</th>\n",
              "      <th>Book_age</th>\n",
              "      <th>Issue_month</th>\n",
              "      <th>Genre_count</th>\n",
              "      <th>BookCategory_count</th>\n",
              "      <th>Net_Rating</th>\n",
              "      <th>Author_count</th>\n",
              "      <th>Review_Impact</th>\n",
              "    </tr>\n",
              "  </thead>\n",
              "  <tbody>\n",
              "    <tr>\n",
              "      <th>0</th>\n",
              "      <td>The Prisoner's Gold (The Hunters 3)</td>\n",
              "      <td>Chris Kuzneski</td>\n",
              "      <td>Paperback,– 10 Mar 2016</td>\n",
              "      <td>4.0</td>\n",
              "      <td>8.0</td>\n",
              "      <td>THE HUNTERS return in their third brilliant no...</td>\n",
              "      <td>Action, Adventure</td>\n",
              "      <td>Action, Adventure</td>\n",
              "      <td>220.00</td>\n",
              "      <td>Paperback</td>\n",
              "      <td>10 Mar 2016</td>\n",
              "      <td>None</td>\n",
              "      <td>NaN</td>\n",
              "      <td>3.0</td>\n",
              "      <td>2</td>\n",
              "      <td>2</td>\n",
              "      <td>32.0</td>\n",
              "      <td>1</td>\n",
              "      <td>NaN</td>\n",
              "    </tr>\n",
              "    <tr>\n",
              "      <th>1</th>\n",
              "      <td>Guru Dutt: A Tragedy in Three Acts</td>\n",
              "      <td>Arun Khopkar</td>\n",
              "      <td>Paperback,– 7 Nov 2012</td>\n",
              "      <td>3.9</td>\n",
              "      <td>14.0</td>\n",
              "      <td>A layered portrait of a troubled genius for wh...</td>\n",
              "      <td>Cinema, Broadcast</td>\n",
              "      <td>Biographies, Diaries, True Accounts</td>\n",
              "      <td>202.93</td>\n",
              "      <td>Paperback</td>\n",
              "      <td>7 Nov 2012</td>\n",
              "      <td>None</td>\n",
              "      <td>NaN</td>\n",
              "      <td>11.0</td>\n",
              "      <td>2</td>\n",
              "      <td>3</td>\n",
              "      <td>54.6</td>\n",
              "      <td>1</td>\n",
              "      <td>NaN</td>\n",
              "    </tr>\n",
              "    <tr>\n",
              "      <th>2</th>\n",
              "      <td>Leviathan (Penguin Classics)</td>\n",
              "      <td>Thomas Hobbes</td>\n",
              "      <td>Paperback,– 25 Feb 1982</td>\n",
              "      <td>4.8</td>\n",
              "      <td>6.0</td>\n",
              "      <td>\"During the time men live without a common Pow...</td>\n",
              "      <td>International Relations</td>\n",
              "      <td>Humour</td>\n",
              "      <td>299.00</td>\n",
              "      <td>Paperback</td>\n",
              "      <td>25 Feb 1982</td>\n",
              "      <td>None</td>\n",
              "      <td>NaN</td>\n",
              "      <td>2.0</td>\n",
              "      <td>1</td>\n",
              "      <td>1</td>\n",
              "      <td>28.8</td>\n",
              "      <td>1</td>\n",
              "      <td>NaN</td>\n",
              "    </tr>\n",
              "    <tr>\n",
              "      <th>3</th>\n",
              "      <td>A Pocket Full of Rye (Miss Marple)</td>\n",
              "      <td>Agatha Christie</td>\n",
              "      <td>Paperback,– 5 Oct 2017</td>\n",
              "      <td>4.1</td>\n",
              "      <td>13.0</td>\n",
              "      <td>A handful of grain is found in the pocket of a...</td>\n",
              "      <td>Contemporary Fiction</td>\n",
              "      <td>Crime, Thriller, Mystery</td>\n",
              "      <td>180.00</td>\n",
              "      <td>Paperback</td>\n",
              "      <td>5 Oct 2017</td>\n",
              "      <td>None</td>\n",
              "      <td>NaN</td>\n",
              "      <td>10.0</td>\n",
              "      <td>1</td>\n",
              "      <td>3</td>\n",
              "      <td>53.3</td>\n",
              "      <td>1</td>\n",
              "      <td>NaN</td>\n",
              "    </tr>\n",
              "    <tr>\n",
              "      <th>4</th>\n",
              "      <td>LIFE 70 Years of Extraordinary Photography</td>\n",
              "      <td>Editors of Life</td>\n",
              "      <td>Hardcover,– 10 Oct 2006</td>\n",
              "      <td>5.0</td>\n",
              "      <td>1.0</td>\n",
              "      <td>For seven decades, \"Life\" has been thrilling t...</td>\n",
              "      <td>Photography Textbooks</td>\n",
              "      <td>Arts, Film, Photography</td>\n",
              "      <td>965.62</td>\n",
              "      <td>Hardcover</td>\n",
              "      <td>10 Oct 2006</td>\n",
              "      <td>None</td>\n",
              "      <td>NaN</td>\n",
              "      <td>10.0</td>\n",
              "      <td>1</td>\n",
              "      <td>3</td>\n",
              "      <td>5.0</td>\n",
              "      <td>1</td>\n",
              "      <td>NaN</td>\n",
              "    </tr>\n",
              "    <tr>\n",
              "      <th>...</th>\n",
              "      <td>...</td>\n",
              "      <td>...</td>\n",
              "      <td>...</td>\n",
              "      <td>...</td>\n",
              "      <td>...</td>\n",
              "      <td>...</td>\n",
              "      <td>...</td>\n",
              "      <td>...</td>\n",
              "      <td>...</td>\n",
              "      <td>...</td>\n",
              "      <td>...</td>\n",
              "      <td>...</td>\n",
              "      <td>...</td>\n",
              "      <td>...</td>\n",
              "      <td>...</td>\n",
              "      <td>...</td>\n",
              "      <td>...</td>\n",
              "      <td>...</td>\n",
              "      <td>...</td>\n",
              "    </tr>\n",
              "    <tr>\n",
              "      <th>7742</th>\n",
              "      <td>Mother Teresa: The Untold Story</td>\n",
              "      <td>Aroup Chatterjee</td>\n",
              "      <td>Paperback,– Mar 2016</td>\n",
              "      <td>4.5</td>\n",
              "      <td>31.0</td>\n",
              "      <td>The popular tendency is to deify myths, gurus,...</td>\n",
              "      <td>True Accounts</td>\n",
              "      <td>Biographies, Diaries, True Accounts</td>\n",
              "      <td>NaN</td>\n",
              "      <td>Paperback</td>\n",
              "      <td>Mar 2016</td>\n",
              "      <td>None</td>\n",
              "      <td>NaN</td>\n",
              "      <td>3.0</td>\n",
              "      <td>1</td>\n",
              "      <td>3</td>\n",
              "      <td>139.5</td>\n",
              "      <td>1</td>\n",
              "      <td>NaN</td>\n",
              "    </tr>\n",
              "    <tr>\n",
              "      <th>7743</th>\n",
              "      <td>Cold Comfort Farm (Penguin Classics)</td>\n",
              "      <td>Stella Gibbons</td>\n",
              "      <td>Paperback,– 26 Oct 2006</td>\n",
              "      <td>4.2</td>\n",
              "      <td>6.0</td>\n",
              "      <td>\"Quite simply one of the funniest satirical no...</td>\n",
              "      <td>Contemporary Fiction</td>\n",
              "      <td>Humour</td>\n",
              "      <td>NaN</td>\n",
              "      <td>Paperback</td>\n",
              "      <td>26 Oct 2006</td>\n",
              "      <td>None</td>\n",
              "      <td>NaN</td>\n",
              "      <td>10.0</td>\n",
              "      <td>1</td>\n",
              "      <td>1</td>\n",
              "      <td>25.2</td>\n",
              "      <td>1</td>\n",
              "      <td>NaN</td>\n",
              "    </tr>\n",
              "    <tr>\n",
              "      <th>7744</th>\n",
              "      <td>Emotional Design</td>\n",
              "      <td>Don Norman</td>\n",
              "      <td>Paperback,– 11 May 2005</td>\n",
              "      <td>3.7</td>\n",
              "      <td>11.0</td>\n",
              "      <td>Why attractive things work better and other cr...</td>\n",
              "      <td>Design</td>\n",
              "      <td>Arts, Film, Photography</td>\n",
              "      <td>NaN</td>\n",
              "      <td>Paperback</td>\n",
              "      <td>11 May 2005</td>\n",
              "      <td>None</td>\n",
              "      <td>NaN</td>\n",
              "      <td>5.0</td>\n",
              "      <td>1</td>\n",
              "      <td>3</td>\n",
              "      <td>40.7</td>\n",
              "      <td>1</td>\n",
              "      <td>NaN</td>\n",
              "    </tr>\n",
              "    <tr>\n",
              "      <th>7745</th>\n",
              "      <td>Remembering Richie: A Tribute to a Cricket Legend</td>\n",
              "      <td>Richie Benaud</td>\n",
              "      <td>Paperback,– 19 Jul 2016</td>\n",
              "      <td>5.0</td>\n",
              "      <td>1.0</td>\n",
              "      <td>A tribute to Richie Benaud and a celebration o...</td>\n",
              "      <td>Biographies, Autobiographies</td>\n",
              "      <td>Sports</td>\n",
              "      <td>NaN</td>\n",
              "      <td>Paperback</td>\n",
              "      <td>19 Jul 2016</td>\n",
              "      <td>None</td>\n",
              "      <td>NaN</td>\n",
              "      <td>7.0</td>\n",
              "      <td>2</td>\n",
              "      <td>1</td>\n",
              "      <td>5.0</td>\n",
              "      <td>1</td>\n",
              "      <td>NaN</td>\n",
              "    </tr>\n",
              "    <tr>\n",
              "      <th>7746</th>\n",
              "      <td>Seeking Allah, Finding Jesus: A Devout Muslim ...</td>\n",
              "      <td>Nabeel Qureshi, Lee Strobel</td>\n",
              "      <td>Paperback,– 19 Apr 2016</td>\n",
              "      <td>4.7</td>\n",
              "      <td>43.0</td>\n",
              "      <td>In Seeking Allah, Finding Jesus, now expanded ...</td>\n",
              "      <td>Theology, Philosophy of Religion</td>\n",
              "      <td>Biographies, Diaries, True Accounts</td>\n",
              "      <td>NaN</td>\n",
              "      <td>Paperback</td>\n",
              "      <td>19 Apr 2016</td>\n",
              "      <td>None</td>\n",
              "      <td>NaN</td>\n",
              "      <td>4.0</td>\n",
              "      <td>2</td>\n",
              "      <td>3</td>\n",
              "      <td>202.1</td>\n",
              "      <td>2</td>\n",
              "      <td>NaN</td>\n",
              "    </tr>\n",
              "  </tbody>\n",
              "</table>\n",
              "<p>7747 rows × 19 columns</p>\n",
              "</div>"
            ],
            "text/plain": [
              "                                                  Title  ... Review_Impact\n",
              "0                   The Prisoner's Gold (The Hunters 3)  ...           NaN\n",
              "1                    Guru Dutt: A Tragedy in Three Acts  ...           NaN\n",
              "2                          Leviathan (Penguin Classics)  ...           NaN\n",
              "3                    A Pocket Full of Rye (Miss Marple)  ...           NaN\n",
              "4            LIFE 70 Years of Extraordinary Photography  ...           NaN\n",
              "...                                                 ...  ...           ...\n",
              "7742                    Mother Teresa: The Untold Story  ...           NaN\n",
              "7743               Cold Comfort Farm (Penguin Classics)  ...           NaN\n",
              "7744                                   Emotional Design  ...           NaN\n",
              "7745  Remembering Richie: A Tribute to a Cricket Legend  ...           NaN\n",
              "7746  Seeking Allah, Finding Jesus: A Devout Muslim ...  ...           NaN\n",
              "\n",
              "[7747 rows x 19 columns]"
            ]
          },
          "metadata": {
            "tags": []
          },
          "execution_count": 511
        }
      ]
    },
    {
      "cell_type": "code",
      "metadata": {
        "id": "G7VZ7z5K-AZG",
        "colab_type": "code",
        "colab": {}
      },
      "source": [
        "#combined = pd.get_dummies(combined, drop_first=True)"
      ],
      "execution_count": 512,
      "outputs": []
    },
    {
      "cell_type": "code",
      "metadata": {
        "id": "wMpSWfWH-OHV",
        "colab_type": "code",
        "colab": {}
      },
      "source": [
        ""
      ],
      "execution_count": 512,
      "outputs": []
    },
    {
      "cell_type": "code",
      "metadata": {
        "id": "wNzIpPVKN0Br",
        "colab_type": "code",
        "colab": {}
      },
      "source": [
        "#Dropping Columns\n",
        "\n",
        "#df_modified.drop(['Edition','Reviews','Ratings'], axis=1, inplace=True)"
      ],
      "execution_count": 513,
      "outputs": []
    },
    {
      "cell_type": "code",
      "metadata": {
        "id": "dB0K3-aKRQqJ",
        "colab_type": "code",
        "colab": {}
      },
      "source": [
        "\n",
        "#converting into categorical data\n",
        "\n",
        "#df_modified[\"Book_Type\"] = df_modified[\"Book_Type\"].astype('category')\n",
        "#df_modified.dtypes\n"
      ],
      "execution_count": 514,
      "outputs": []
    },
    {
      "cell_type": "code",
      "metadata": {
        "id": "hsH1x8R9TRqK",
        "colab_type": "code",
        "colab": {}
      },
      "source": [
        "\n",
        "#label encoding\n",
        "\n",
        "#df_modified['Book_Type_Cat'] = df_modified[\"Book_Type\"].cat.codes\n",
        "\n",
        "#combined = pd.get_dummies(combined[], drop_first=True)\n"
      ],
      "execution_count": 515,
      "outputs": []
    },
    {
      "cell_type": "code",
      "metadata": {
        "id": "PaQgoMiMJn6S",
        "colab_type": "code",
        "colab": {
          "base_uri": "https://localhost:8080/",
          "height": 102
        },
        "outputId": "a48113a3-ab7a-42cf-d3f8-a0f4b30db0db"
      },
      "source": [
        "combined.columns"
      ],
      "execution_count": 516,
      "outputs": [
        {
          "output_type": "execute_result",
          "data": {
            "text/plain": [
              "Index(['Title', 'Author', 'Edition', 'Reviews', 'Ratings', 'Synopsis', 'Genre',\n",
              "       'BookCategory', 'Price', 'Issue_type', 'Issue_date', 'Issue_year',\n",
              "       'Book_age', 'Issue_month', 'Genre_count', 'BookCategory_count',\n",
              "       'Net_Rating', 'Author_count', 'Review_Impact'],\n",
              "      dtype='object')"
            ]
          },
          "metadata": {
            "tags": []
          },
          "execution_count": 516
        }
      ]
    },
    {
      "cell_type": "code",
      "metadata": {
        "colab_type": "code",
        "id": "w9aayl0-783A",
        "colab": {}
      },
      "source": [
        "from sklearn.preprocessing import LabelEncoder\n",
        "enc = LabelEncoder()\n",
        "combined[['Issue_type','Issue_month']] = combined[['Issue_type','Issue_month']].apply(enc.fit_transform)"
      ],
      "execution_count": 517,
      "outputs": []
    },
    {
      "cell_type": "code",
      "metadata": {
        "id": "ZyuEzJLnJFlY",
        "colab_type": "code",
        "colab": {}
      },
      "source": [
        "title_vectorizer = CountVectorizer(max_features=10, lowercase=True)\n",
        "title_vector = title_vectorizer.fit_transform(combined['Title']).toarray()\n",
        "df_title = pd.DataFrame(data=title_vector,\n",
        "                        columns=title_vectorizer.get_feature_names())"
      ],
      "execution_count": 518,
      "outputs": []
    },
    {
      "cell_type": "code",
      "metadata": {
        "id": "fixrVTLJE-dV",
        "colab_type": "code",
        "colab": {}
      },
      "source": [
        "from sklearn.feature_extraction.text import CountVectorizer\n",
        "\n",
        "bc_vectorizer = CountVectorizer(lowercase=True, tokenizer=lambda x: \\\n",
        "                                 x.split(', '))\n",
        "book_cat_vector = bc_vectorizer.fit_transform(combined['BookCategory']).toarray()\n",
        "df_book_cat = pd.DataFrame(data=book_cat_vector,\n",
        "                      columns=bc_vectorizer.get_feature_names())"
      ],
      "execution_count": 519,
      "outputs": []
    },
    {
      "cell_type": "code",
      "metadata": {
        "id": "mctXV6rJDPVN",
        "colab_type": "code",
        "colab": {}
      },
      "source": [
        "vectorizer_genre = CountVectorizer(max_features=10,\n",
        "                                   lowercase=True, tokenizer=lambda x: x.split(', '))\n",
        "vector_genre = vectorizer_genre.fit_transform(combined['Genre']).toarray()\n",
        "df_genre = pd.DataFrame(data=vector_genre,\n",
        "                        columns=vectorizer_genre.get_feature_names())"
      ],
      "execution_count": 520,
      "outputs": []
    },
    {
      "cell_type": "code",
      "metadata": {
        "id": "ItNjm2P8IHfG",
        "colab_type": "code",
        "colab": {}
      },
      "source": [
        "vectorizer_author = CountVectorizer(max_features=10, lowercase=True,\n",
        "                                    tokenizer=lambda x: x.split(', '))\n",
        "vector_author = vectorizer_author.fit_transform(combined['Author']).toarray()\n",
        "df_author = pd.DataFrame(data=vector_author,\n",
        "                         columns=vectorizer_author.get_feature_names())"
      ],
      "execution_count": 521,
      "outputs": []
    },
    {
      "cell_type": "code",
      "metadata": {
        "id": "Sy01enocIIZj",
        "colab_type": "code",
        "colab": {}
      },
      "source": [
        "vectorizer_synopsis = CountVectorizer(max_features=10,\n",
        "                                      stop_words='english', \n",
        "                                      strip_accents='ascii', \n",
        "                                      lowercase=True)\n",
        "vector_synopsis = vectorizer_synopsis.fit_transform(combined['Synopsis']).toarray()\n",
        "df_syn = pd.DataFrame(data=vector_synopsis,\n",
        "                           columns=vectorizer_synopsis.get_feature_names())"
      ],
      "execution_count": 522,
      "outputs": []
    },
    {
      "cell_type": "code",
      "metadata": {
        "id": "sc7VigCuIH7U",
        "colab_type": "code",
        "colab": {
          "base_uri": "https://localhost:8080/",
          "height": 102
        },
        "outputId": "aadc5229-c9d0-4a86-a891-45c4d135d84b"
      },
      "source": [
        "combined.columns"
      ],
      "execution_count": 523,
      "outputs": [
        {
          "output_type": "execute_result",
          "data": {
            "text/plain": [
              "Index(['Title', 'Author', 'Edition', 'Reviews', 'Ratings', 'Synopsis', 'Genre',\n",
              "       'BookCategory', 'Price', 'Issue_type', 'Issue_date', 'Issue_year',\n",
              "       'Book_age', 'Issue_month', 'Genre_count', 'BookCategory_count',\n",
              "       'Net_Rating', 'Author_count', 'Review_Impact'],\n",
              "      dtype='object')"
            ]
          },
          "metadata": {
            "tags": []
          },
          "execution_count": 523
        }
      ]
    },
    {
      "cell_type": "code",
      "metadata": {
        "id": "bj1_LF4kJ5vW",
        "colab_type": "code",
        "colab": {}
      },
      "source": [
        "final = combined[['Price','Reviews', 'Ratings', 'Issue_type','Issue_month', 'Genre_count',\n",
        "       'BookCategory_count', 'Net_Rating','Review_Impact', 'Author_count', \n",
        "       'Book_age']]"
      ],
      "execution_count": 524,
      "outputs": []
    },
    {
      "cell_type": "code",
      "metadata": {
        "id": "VIjS4T23J6ZE",
        "colab_type": "code",
        "colab": {
          "base_uri": "https://localhost:8080/",
          "height": 439
        },
        "outputId": "c879dbe9-74ec-4835-96c5-300ef152688f"
      },
      "source": [
        "final"
      ],
      "execution_count": 525,
      "outputs": [
        {
          "output_type": "execute_result",
          "data": {
            "text/html": [
              "<div>\n",
              "<style scoped>\n",
              "    .dataframe tbody tr th:only-of-type {\n",
              "        vertical-align: middle;\n",
              "    }\n",
              "\n",
              "    .dataframe tbody tr th {\n",
              "        vertical-align: top;\n",
              "    }\n",
              "\n",
              "    .dataframe thead th {\n",
              "        text-align: right;\n",
              "    }\n",
              "</style>\n",
              "<table border=\"1\" class=\"dataframe\">\n",
              "  <thead>\n",
              "    <tr style=\"text-align: right;\">\n",
              "      <th></th>\n",
              "      <th>Price</th>\n",
              "      <th>Reviews</th>\n",
              "      <th>Ratings</th>\n",
              "      <th>Issue_type</th>\n",
              "      <th>Issue_month</th>\n",
              "      <th>Genre_count</th>\n",
              "      <th>BookCategory_count</th>\n",
              "      <th>Net_Rating</th>\n",
              "      <th>Review_Impact</th>\n",
              "      <th>Author_count</th>\n",
              "      <th>Book_age</th>\n",
              "    </tr>\n",
              "  </thead>\n",
              "  <tbody>\n",
              "    <tr>\n",
              "      <th>0</th>\n",
              "      <td>220.00</td>\n",
              "      <td>4.0</td>\n",
              "      <td>8.0</td>\n",
              "      <td>9</td>\n",
              "      <td>2</td>\n",
              "      <td>2</td>\n",
              "      <td>2</td>\n",
              "      <td>32.0</td>\n",
              "      <td>NaN</td>\n",
              "      <td>1</td>\n",
              "      <td>NaN</td>\n",
              "    </tr>\n",
              "    <tr>\n",
              "      <th>1</th>\n",
              "      <td>202.93</td>\n",
              "      <td>3.9</td>\n",
              "      <td>14.0</td>\n",
              "      <td>9</td>\n",
              "      <td>10</td>\n",
              "      <td>2</td>\n",
              "      <td>3</td>\n",
              "      <td>54.6</td>\n",
              "      <td>NaN</td>\n",
              "      <td>1</td>\n",
              "      <td>NaN</td>\n",
              "    </tr>\n",
              "    <tr>\n",
              "      <th>2</th>\n",
              "      <td>299.00</td>\n",
              "      <td>4.8</td>\n",
              "      <td>6.0</td>\n",
              "      <td>9</td>\n",
              "      <td>1</td>\n",
              "      <td>1</td>\n",
              "      <td>1</td>\n",
              "      <td>28.8</td>\n",
              "      <td>NaN</td>\n",
              "      <td>1</td>\n",
              "      <td>NaN</td>\n",
              "    </tr>\n",
              "    <tr>\n",
              "      <th>3</th>\n",
              "      <td>180.00</td>\n",
              "      <td>4.1</td>\n",
              "      <td>13.0</td>\n",
              "      <td>9</td>\n",
              "      <td>9</td>\n",
              "      <td>1</td>\n",
              "      <td>3</td>\n",
              "      <td>53.3</td>\n",
              "      <td>NaN</td>\n",
              "      <td>1</td>\n",
              "      <td>NaN</td>\n",
              "    </tr>\n",
              "    <tr>\n",
              "      <th>4</th>\n",
              "      <td>965.62</td>\n",
              "      <td>5.0</td>\n",
              "      <td>1.0</td>\n",
              "      <td>4</td>\n",
              "      <td>9</td>\n",
              "      <td>1</td>\n",
              "      <td>3</td>\n",
              "      <td>5.0</td>\n",
              "      <td>NaN</td>\n",
              "      <td>1</td>\n",
              "      <td>NaN</td>\n",
              "    </tr>\n",
              "    <tr>\n",
              "      <th>...</th>\n",
              "      <td>...</td>\n",
              "      <td>...</td>\n",
              "      <td>...</td>\n",
              "      <td>...</td>\n",
              "      <td>...</td>\n",
              "      <td>...</td>\n",
              "      <td>...</td>\n",
              "      <td>...</td>\n",
              "      <td>...</td>\n",
              "      <td>...</td>\n",
              "      <td>...</td>\n",
              "    </tr>\n",
              "    <tr>\n",
              "      <th>7792</th>\n",
              "      <td>NaN</td>\n",
              "      <td>5.0</td>\n",
              "      <td>4.0</td>\n",
              "      <td>9</td>\n",
              "      <td>3</td>\n",
              "      <td>1</td>\n",
              "      <td>3</td>\n",
              "      <td>20.0</td>\n",
              "      <td>NaN</td>\n",
              "      <td>1</td>\n",
              "      <td>NaN</td>\n",
              "    </tr>\n",
              "    <tr>\n",
              "      <th>7793</th>\n",
              "      <td>NaN</td>\n",
              "      <td>3.6</td>\n",
              "      <td>13.0</td>\n",
              "      <td>9</td>\n",
              "      <td>4</td>\n",
              "      <td>1</td>\n",
              "      <td>3</td>\n",
              "      <td>46.8</td>\n",
              "      <td>NaN</td>\n",
              "      <td>1</td>\n",
              "      <td>NaN</td>\n",
              "    </tr>\n",
              "    <tr>\n",
              "      <th>7794</th>\n",
              "      <td>NaN</td>\n",
              "      <td>4.0</td>\n",
              "      <td>5.0</td>\n",
              "      <td>9</td>\n",
              "      <td>8</td>\n",
              "      <td>1</td>\n",
              "      <td>1</td>\n",
              "      <td>20.0</td>\n",
              "      <td>NaN</td>\n",
              "      <td>1</td>\n",
              "      <td>NaN</td>\n",
              "    </tr>\n",
              "    <tr>\n",
              "      <th>7795</th>\n",
              "      <td>NaN</td>\n",
              "      <td>3.5</td>\n",
              "      <td>3.0</td>\n",
              "      <td>9</td>\n",
              "      <td>8</td>\n",
              "      <td>1</td>\n",
              "      <td>3</td>\n",
              "      <td>10.5</td>\n",
              "      <td>NaN</td>\n",
              "      <td>1</td>\n",
              "      <td>NaN</td>\n",
              "    </tr>\n",
              "    <tr>\n",
              "      <th>7796</th>\n",
              "      <td>NaN</td>\n",
              "      <td>4.5</td>\n",
              "      <td>2.0</td>\n",
              "      <td>9</td>\n",
              "      <td>8</td>\n",
              "      <td>1</td>\n",
              "      <td>3</td>\n",
              "      <td>9.0</td>\n",
              "      <td>NaN</td>\n",
              "      <td>1</td>\n",
              "      <td>NaN</td>\n",
              "    </tr>\n",
              "  </tbody>\n",
              "</table>\n",
              "<p>7797 rows × 11 columns</p>\n",
              "</div>"
            ],
            "text/plain": [
              "       Price  Reviews  Ratings  ...  Review_Impact  Author_count  Book_age\n",
              "0     220.00      4.0      8.0  ...            NaN             1       NaN\n",
              "1     202.93      3.9     14.0  ...            NaN             1       NaN\n",
              "2     299.00      4.8      6.0  ...            NaN             1       NaN\n",
              "3     180.00      4.1     13.0  ...            NaN             1       NaN\n",
              "4     965.62      5.0      1.0  ...            NaN             1       NaN\n",
              "...      ...      ...      ...  ...            ...           ...       ...\n",
              "7792     NaN      5.0      4.0  ...            NaN             1       NaN\n",
              "7793     NaN      3.6     13.0  ...            NaN             1       NaN\n",
              "7794     NaN      4.0      5.0  ...            NaN             1       NaN\n",
              "7795     NaN      3.5      3.0  ...            NaN             1       NaN\n",
              "7796     NaN      4.5      2.0  ...            NaN             1       NaN\n",
              "\n",
              "[7797 rows x 11 columns]"
            ]
          },
          "metadata": {
            "tags": []
          },
          "execution_count": 525
        }
      ]
    },
    {
      "cell_type": "code",
      "metadata": {
        "id": "J73HLu6OJ6mV",
        "colab_type": "code",
        "colab": {}
      },
      "source": [
        "final = pd.concat([\n",
        "    final,# dummy encoded features\n",
        "    df_title,\n",
        "    df_book_cat,\n",
        "    df_genre,\n",
        "    df_author,\n",
        "    df_syn,\n",
        "    ], axis=1)\n",
        "final.reset_index(drop=True, inplace=True)"
      ],
      "execution_count": 526,
      "outputs": []
    },
    {
      "cell_type": "code",
      "metadata": {
        "id": "XE8E3ffmNdQv",
        "colab_type": "code",
        "colab": {}
      },
      "source": [
        "#Separating Dependant & Independant"
      ],
      "execution_count": 527,
      "outputs": []
    },
    {
      "cell_type": "code",
      "metadata": {
        "id": "pPp0MBqrNcse",
        "colab_type": "code",
        "colab": {
          "base_uri": "https://localhost:8080/",
          "height": 221
        },
        "outputId": "0a3251c2-5838-4500-ff52-af72c68987b9"
      },
      "source": [
        "final.isnull().sum()"
      ],
      "execution_count": 528,
      "outputs": [
        {
          "output_type": "execute_result",
          "data": {
            "text/plain": [
              "Price          1560\n",
              "Reviews           0\n",
              "Ratings           0\n",
              "Issue_type        0\n",
              "Issue_month       0\n",
              "               ... \n",
              "man               0\n",
              "new               0\n",
              "story             0\n",
              "time              0\n",
              "world             0\n",
              "Length: 74, dtype: int64"
            ]
          },
          "metadata": {
            "tags": []
          },
          "execution_count": 528
        }
      ]
    },
    {
      "cell_type": "code",
      "metadata": {
        "id": "fQAqVjrhNceX",
        "colab_type": "code",
        "colab": {}
      },
      "source": [
        "import seaborn as sns\n",
        "import matplotlib.pyplot as plt\n",
        "%matplotlib inline"
      ],
      "execution_count": 529,
      "outputs": []
    },
    {
      "cell_type": "code",
      "metadata": {
        "id": "3j1bp5rdOcH7",
        "colab_type": "code",
        "colab": {
          "base_uri": "https://localhost:8080/",
          "height": 898
        },
        "outputId": "610996ac-a865-4a80-c475-116569f14bd0"
      },
      "source": [
        "correlation_mat = combined.corr()\n",
        "top_corr_features = correlation_mat.index\n",
        "plt.figure(figsize=(20,20))\n",
        "g= sns.heatmap(final[top_corr_features].corr(),annot=True,cmap=\"coolwarm\")"
      ],
      "execution_count": 530,
      "outputs": [
        {
          "output_type": "display_data",
          "data": {
            "image/png": "[encoded data removed]",
            "text/plain": [
              "<Figure size 1440x1440 with 2 Axes>"
            ]
          },
          "metadata": {
            "tags": [],
            "needs_background": "light"
          }
        }
      ]
    },
    {
      "cell_type": "code",
      "metadata": {
        "id": "cJ6n8ncWSECj",
        "colab_type": "code",
        "colab": {
          "base_uri": "https://localhost:8080/",
          "height": 255
        },
        "outputId": "eae55884-32bc-4463-c924-ef0f1813411d"
      },
      "source": [
        "final.columns"
      ],
      "execution_count": 531,
      "outputs": [
        {
          "output_type": "execute_result",
          "data": {
            "text/plain": [
              "Index(['Price', 'Reviews', 'Ratings', 'Issue_type', 'Issue_month',\n",
              "       'Genre_count', 'BookCategory_count', 'Net_Rating', 'Review_Impact',\n",
              "       'Author_count', 'Book_age', 'and', 'book', 'for', 'guide', 'how', 'in',\n",
              "       'of', 'the', 'to', 'with', 'action', 'adventure', 'arts', 'biographies',\n",
              "       'comics', 'computing', 'crime', 'diaries', 'digital media', 'film',\n",
              "       'humour', 'internet', 'language', 'linguistics', 'mangas', 'mystery',\n",
              "       'photography', 'politics', 'romance', 'sports', 'thriller',\n",
              "       'true accounts', 'writing', 'action', 'adventure ', 'autobiographies ',\n",
              "       'biographies', 'comics', 'contemporary fiction ', 'crime', 'mystery ',\n",
              "       'romance ', 'thriller', 'agatha christie', 'albert uderzo',\n",
              "       'bill watterson', 'dk', 'herge', 'james patterson', 'john grisham',\n",
              "       'ladybird', 'nora roberts', 'p.g. wodehouse', 'author', 'best', 'book',\n",
              "       'life', 'love', 'man', 'new', 'story', 'time', 'world'],\n",
              "      dtype='object')"
            ]
          },
          "metadata": {
            "tags": []
          },
          "execution_count": 531
        }
      ]
    },
    {
      "cell_type": "code",
      "metadata": {
        "id": "SAqAOxqlRjED",
        "colab_type": "code",
        "colab": {}
      },
      "source": [
        "X=final.iloc[:,1:] #separating inputs and outputs\n",
        "y=final.iloc[:,0]"
      ],
      "execution_count": 532,
      "outputs": []
    },
    {
      "cell_type": "code",
      "metadata": {
        "id": "lAsmbC9HSANW",
        "colab_type": "code",
        "colab": {
          "base_uri": "https://localhost:8080/",
          "height": 51
        },
        "outputId": "c3ecf124-92a2-4225-eb34-5153384f2d19"
      },
      "source": [
        "print(X.shape)\n",
        "print(y.shape)"
      ],
      "execution_count": 533,
      "outputs": [
        {
          "output_type": "stream",
          "text": [
            "(7797, 73)\n",
            "(7797,)\n"
          ],
          "name": "stdout"
        }
      ]
    },
    {
      "cell_type": "code",
      "metadata": {
        "id": "9tRQYXOUSAvf",
        "colab_type": "code",
        "colab": {
          "base_uri": "https://localhost:8080/",
          "height": 358
        },
        "outputId": "81315395-615a-448a-cd10-f83116b97464"
      },
      "source": [
        "###Feature Importance\n",
        "from sklearn.ensemble import ExtraTreesRegressor\n",
        "model=ExtraTreesRegressor()\n",
        "model.fit(X,y)"
      ],
      "execution_count": 534,
      "outputs": [
        {
          "output_type": "error",
          "ename": "ValueError",
          "evalue": "ignored",
          "traceback": [
            "\u001b[0;31m---------------------------------------------------------------------------\u001b[0m",
            "\u001b[0;31mValueError\u001b[0m                                Traceback (most recent call last)",
            "\u001b[0;32m<ipython-input-534-74e0bb879ab6>\u001b[0m in \u001b[0;36m<module>\u001b[0;34m()\u001b[0m\n\u001b[1;32m      2\u001b[0m \u001b[0;32mfrom\u001b[0m \u001b[0msklearn\u001b[0m\u001b[0;34m.\u001b[0m\u001b[0mensemble\u001b[0m \u001b[0;32mimport\u001b[0m \u001b[0mExtraTreesRegressor\u001b[0m\u001b[0;34m\u001b[0m\u001b[0;34m\u001b[0m\u001b[0m\n\u001b[1;32m      3\u001b[0m \u001b[0mmodel\u001b[0m\u001b[0;34m=\u001b[0m\u001b[0mExtraTreesRegressor\u001b[0m\u001b[0;34m(\u001b[0m\u001b[0;34m)\u001b[0m\u001b[0;34m\u001b[0m\u001b[0;34m\u001b[0m\u001b[0m\n\u001b[0;32m----> 4\u001b[0;31m \u001b[0mmodel\u001b[0m\u001b[0;34m.\u001b[0m\u001b[0mfit\u001b[0m\u001b[0;34m(\u001b[0m\u001b[0mX\u001b[0m\u001b[0;34m,\u001b[0m\u001b[0my\u001b[0m\u001b[0;34m)\u001b[0m\u001b[0;34m\u001b[0m\u001b[0;34m\u001b[0m\u001b[0m\n\u001b[0m",
            "\u001b[0;32m/usr/local/lib/python3.6/dist-packages/sklearn/ensemble/_forest.py\u001b[0m in \u001b[0;36mfit\u001b[0;34m(self, X, y, sample_weight)\u001b[0m\n\u001b[1;32m    293\u001b[0m         \"\"\"\n\u001b[1;32m    294\u001b[0m         \u001b[0;31m# Validate or convert input data\u001b[0m\u001b[0;34m\u001b[0m\u001b[0;34m\u001b[0m\u001b[0;34m\u001b[0m\u001b[0m\n\u001b[0;32m--> 295\u001b[0;31m         \u001b[0mX\u001b[0m \u001b[0;34m=\u001b[0m \u001b[0mcheck_array\u001b[0m\u001b[0;34m(\u001b[0m\u001b[0mX\u001b[0m\u001b[0;34m,\u001b[0m \u001b[0maccept_sparse\u001b[0m\u001b[0;34m=\u001b[0m\u001b[0;34m\"csc\"\u001b[0m\u001b[0;34m,\u001b[0m \u001b[0mdtype\u001b[0m\u001b[0;34m=\u001b[0m\u001b[0mDTYPE\u001b[0m\u001b[0;34m)\u001b[0m\u001b[0;34m\u001b[0m\u001b[0;34m\u001b[0m\u001b[0m\n\u001b[0m\u001b[1;32m    296\u001b[0m         \u001b[0my\u001b[0m \u001b[0;34m=\u001b[0m \u001b[0mcheck_array\u001b[0m\u001b[0;34m(\u001b[0m\u001b[0my\u001b[0m\u001b[0;34m,\u001b[0m \u001b[0maccept_sparse\u001b[0m\u001b[0;34m=\u001b[0m\u001b[0;34m'csc'\u001b[0m\u001b[0;34m,\u001b[0m \u001b[0mensure_2d\u001b[0m\u001b[0;34m=\u001b[0m\u001b[0;32mFalse\u001b[0m\u001b[0;34m,\u001b[0m \u001b[0mdtype\u001b[0m\u001b[0;34m=\u001b[0m\u001b[0;32mNone\u001b[0m\u001b[0;34m)\u001b[0m\u001b[0;34m\u001b[0m\u001b[0;34m\u001b[0m\u001b[0m\n\u001b[1;32m    297\u001b[0m         \u001b[0;32mif\u001b[0m \u001b[0msample_weight\u001b[0m \u001b[0;32mis\u001b[0m \u001b[0;32mnot\u001b[0m \u001b[0;32mNone\u001b[0m\u001b[0;34m:\u001b[0m\u001b[0;34m\u001b[0m\u001b[0;34m\u001b[0m\u001b[0m\n",
            "\u001b[0;32m/usr/local/lib/python3.6/dist-packages/sklearn/utils/validation.py\u001b[0m in \u001b[0;36mcheck_array\u001b[0;34m(array, accept_sparse, accept_large_sparse, dtype, order, copy, force_all_finite, ensure_2d, allow_nd, ensure_min_samples, ensure_min_features, warn_on_dtype, estimator)\u001b[0m\n\u001b[1;32m    576\u001b[0m         \u001b[0;32mif\u001b[0m \u001b[0mforce_all_finite\u001b[0m\u001b[0;34m:\u001b[0m\u001b[0;34m\u001b[0m\u001b[0;34m\u001b[0m\u001b[0m\n\u001b[1;32m    577\u001b[0m             _assert_all_finite(array,\n\u001b[0;32m--> 578\u001b[0;31m                                allow_nan=force_all_finite == 'allow-nan')\n\u001b[0m\u001b[1;32m    579\u001b[0m \u001b[0;34m\u001b[0m\u001b[0m\n\u001b[1;32m    580\u001b[0m     \u001b[0;32mif\u001b[0m \u001b[0mensure_min_samples\u001b[0m \u001b[0;34m>\u001b[0m \u001b[0;36m0\u001b[0m\u001b[0;34m:\u001b[0m\u001b[0;34m\u001b[0m\u001b[0;34m\u001b[0m\u001b[0m\n",
            "\u001b[0;32m/usr/local/lib/python3.6/dist-packages/sklearn/utils/validation.py\u001b[0m in \u001b[0;36m_assert_all_finite\u001b[0;34m(X, allow_nan, msg_dtype)\u001b[0m\n\u001b[1;32m     58\u001b[0m                     \u001b[0mmsg_err\u001b[0m\u001b[0;34m.\u001b[0m\u001b[0mformat\u001b[0m\u001b[0;34m\u001b[0m\u001b[0;34m\u001b[0m\u001b[0m\n\u001b[1;32m     59\u001b[0m                     (type_err,\n\u001b[0;32m---> 60\u001b[0;31m                      msg_dtype if msg_dtype is not None else X.dtype)\n\u001b[0m\u001b[1;32m     61\u001b[0m             )\n\u001b[1;32m     62\u001b[0m     \u001b[0;31m# for object dtype data, we only check for NaNs (GH-13254)\u001b[0m\u001b[0;34m\u001b[0m\u001b[0;34m\u001b[0m\u001b[0;34m\u001b[0m\u001b[0m\n",
            "\u001b[0;31mValueError\u001b[0m: Input contains NaN, infinity or a value too large for dtype('float32')."
          ]
        }
      ]
    },
    {
      "cell_type": "code",
      "metadata": {
        "id": "tC8VOXabSAYo",
        "colab_type": "code",
        "colab": {}
      },
      "source": [
        ""
      ],
      "execution_count": null,
      "outputs": []
    },
    {
      "cell_type": "code",
      "metadata": {
        "id": "aYuOY75JSAWH",
        "colab_type": "code",
        "colab": {}
      },
      "source": [
        ""
      ],
      "execution_count": null,
      "outputs": []
    },
    {
      "cell_type": "code",
      "metadata": {
        "id": "hyx-9vcwSATP",
        "colab_type": "code",
        "colab": {}
      },
      "source": [
        ""
      ],
      "execution_count": null,
      "outputs": []
    },
    {
      "cell_type": "code",
      "metadata": {
        "id": "WfUPnluSSAA7",
        "colab_type": "code",
        "colab": {}
      },
      "source": [
        ""
      ],
      "execution_count": null,
      "outputs": []
    },
    {
      "cell_type": "code",
      "metadata": {
        "id": "6ybtwuXvJ6w6",
        "colab_type": "code",
        "colab": {}
      },
      "source": [
        "train = final[final['Price'].notna()]\n",
        "test = df[df['Price'].isna()]\n",
        "test.drop(['Price'], axis=1, inplace=True)"
      ],
      "execution_count": null,
      "outputs": []
    },
    {
      "cell_type": "code",
      "metadata": {
        "id": "SvXi5IBPJ6iQ",
        "colab_type": "code",
        "colab": {}
      },
      "source": [
        "X = train.loc[:, train.columns != 'Price'].values\n",
        "X = X.astype(float)\n",
        "\n",
        "# Dependent Variable\n",
        "\n",
        "y = np.log1p(train['Price'].values)\n",
        "y = y.astype(float)\n",
        "\n",
        "# Test - (Independent Variables)\n",
        "\n",
        "test = test.loc[:].values\n",
        "test = test.astype(float)"
      ],
      "execution_count": null,
      "outputs": []
    },
    {
      "cell_type": "code",
      "metadata": {
        "id": "JkVq0IbZJ6gG",
        "colab_type": "code",
        "colab": {}
      },
      "source": [
        ""
      ],
      "execution_count": null,
      "outputs": []
    },
    {
      "cell_type": "code",
      "metadata": {
        "id": "9rZxhwdCJ55r",
        "colab_type": "code",
        "colab": {}
      },
      "source": [
        ""
      ],
      "execution_count": null,
      "outputs": []
    },
    {
      "cell_type": "code",
      "metadata": {
        "id": "E9KD2ZLcJ52G",
        "colab_type": "code",
        "colab": {}
      },
      "source": [
        ""
      ],
      "execution_count": null,
      "outputs": []
    },
    {
      "cell_type": "code",
      "metadata": {
        "id": "7hg9rn43wScR",
        "colab_type": "code",
        "colab": {}
      },
      "source": [
        "train = df[df['Price'].notna()]\n",
        "test = df[df['Price'].isna()]\n",
        "test.drop(['Price'], axis=1, inplace=True)"
      ],
      "execution_count": null,
      "outputs": []
    },
    {
      "cell_type": "code",
      "metadata": {
        "id": "STm82R-PwSaA",
        "colab_type": "code",
        "colab": {}
      },
      "source": [
        "train = train[train['Price'] <= 12000]"
      ],
      "execution_count": null,
      "outputs": []
    },
    {
      "cell_type": "code",
      "metadata": {
        "id": "kLEjsmldwST0",
        "colab_type": "code",
        "colab": {}
      },
      "source": [
        "X = train.loc[:, train.columns != 'Price'].values\n",
        "X = X.astype(float)\n",
        "\n",
        "# Dependent Variable\n",
        "\n",
        "y = np.log1p(train['Price'].values)\n",
        "y = y.astype(float)\n",
        "\n",
        "# Test - (Independent Variables)\n",
        "\n",
        "test = test.loc[:].values\n",
        "test = test.astype(float)"
      ],
      "execution_count": null,
      "outputs": []
    },
    {
      "cell_type": "markdown",
      "metadata": {
        "id": "xaltZHyVeBwp",
        "colab_type": "text"
      },
      "source": [
        "Machine Learning\n"
      ]
    },
    {
      "cell_type": "code",
      "metadata": {
        "id": "3I1ljl_1wSRh",
        "colab_type": "code",
        "colab": {}
      },
      "source": [
        "import xgboost as xgb\n",
        "import lightgbm as lgb\n",
        "from sklearn.metrics import make_scorer\n",
        "from xgboost.sklearn import XGBRegressor\n",
        "from sklearn.model_selection \\\n",
        "    import cross_val_score, GridSearchCV, RandomizedSearchCV\n",
        "from sklearn.ensemble \\\n",
        "    import RandomForestRegressor, VotingRegressor, AdaBoostRegressor"
      ],
      "execution_count": null,
      "outputs": []
    },
    {
      "cell_type": "code",
      "metadata": {
        "id": "NvLNof1HwSPF",
        "colab_type": "code",
        "colab": {}
      },
      "source": [
        "#RF\n",
        "rf = RandomForestRegressor(random_state=0,bootstrap=False,max_features='sqrt')\n",
        "\n",
        "cvs = cross_val_score(rf, X, y, cv=5,verbose=2,n_jobs=-1,\n",
        "                      scoring=make_scorer(score,greater_is_better=True))\n",
        "mean_score = sum(cvs)/len(cvs)\n",
        "print(\"Average Score:\",mean_score)"
      ],
      "execution_count": null,
      "outputs": []
    }
  ]
}