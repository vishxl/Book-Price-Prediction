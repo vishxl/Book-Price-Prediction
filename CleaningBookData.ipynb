{
  "nbformat": 4,
  "nbformat_minor": 0,
  "metadata": {
    "colab": {
      "name": "Copy of CleaningBookData",
      "provenance": [],
      "collapsed_sections": [],
      "authorship_tag": "ABX9TyNw70V26tMWUko+BNgXCHTC",
      "include_colab_link": true
    },
    "kernelspec": {
      "name": "python3",
      "display_name": "Python 3"
    }
  },
  "cells": [
    {
      "cell_type": "markdown",
      "metadata": {
        "id": "view-in-github",
        "colab_type": "text"
      },
      "source": [
        "<a href=\"https://colab.research.google.com/github/vishxl/Book-Price-Prediction/blob/master/CleaningBookData.ipynb\" target=\"_parent\"><img src=\"https://colab.research.google.com/assets/colab-badge.svg\" alt=\"Open In Colab\"/></a>"
      ]
    },
    {
      "cell_type": "code",
      "metadata": {
        "id": "kCS_yMlVSdOM",
        "colab_type": "code",
        "colab": {}
      },
      "source": [
        "import requests, zipfile, io\n",
        "\n",
        "r = requests.get( 'https://github.com/vishxl/Book-Price-Prediction/blob/master/Data.zip?raw=true' ) \n",
        "z = zipfile.ZipFile(io.BytesIO(r.content)) \n",
        "z.extractall()"
      ],
      "execution_count": 27,
      "outputs": []
    },
    {
      "cell_type": "code",
      "metadata": {
        "id": "idsby2uNWoF8",
        "colab_type": "code",
        "colab": {}
      },
      "source": [
        "import pandas as pd\n",
        "import numpy as np"
      ],
      "execution_count": 28,
      "outputs": []
    },
    {
      "cell_type": "code",
      "metadata": {
        "id": "L31AGdjzXIKX",
        "colab_type": "code",
        "colab": {}
      },
      "source": [
        "train = pd.read_excel('Participants_Data/Data_Train.xlsx')\n",
        "test = pd.read_excel('Participants_Data/Data_Test.xlsx')\n",
        "\n",
        "sub = pd.read_excel('Participants_Data/Sample_Submission.xlsx')"
      ],
      "execution_count": 29,
      "outputs": []
    },
    {
      "cell_type": "code",
      "metadata": {
        "id": "4PxChdKaXS2n",
        "colab_type": "code",
        "colab": {
          "base_uri": "https://localhost:8080/",
          "height": 328
        },
        "outputId": "747a628f-1ef3-4b3e-c326-0641c18cd469"
      },
      "source": [
        "train.head().T"
      ],
      "execution_count": 30,
      "outputs": [
        {
          "output_type": "execute_result",
          "data": {
            "text/html": [
              "<div>\n",
              "<style scoped>\n",
              "    .dataframe tbody tr th:only-of-type {\n",
              "        vertical-align: middle;\n",
              "    }\n",
              "\n",
              "    .dataframe tbody tr th {\n",
              "        vertical-align: top;\n",
              "    }\n",
              "\n",
              "    .dataframe thead th {\n",
              "        text-align: right;\n",
              "    }\n",
              "</style>\n",
              "<table border=\"1\" class=\"dataframe\">\n",
              "  <thead>\n",
              "    <tr style=\"text-align: right;\">\n",
              "      <th></th>\n",
              "      <th>0</th>\n",
              "      <th>1</th>\n",
              "      <th>2</th>\n",
              "      <th>3</th>\n",
              "      <th>4</th>\n",
              "    </tr>\n",
              "  </thead>\n",
              "  <tbody>\n",
              "    <tr>\n",
              "      <th>Title</th>\n",
              "      <td>The Prisoner's Gold (The Hunters 3)</td>\n",
              "      <td>Guru Dutt: A Tragedy in Three Acts</td>\n",
              "      <td>Leviathan (Penguin Classics)</td>\n",
              "      <td>A Pocket Full of Rye (Miss Marple)</td>\n",
              "      <td>LIFE 70 Years of Extraordinary Photography</td>\n",
              "    </tr>\n",
              "    <tr>\n",
              "      <th>Author</th>\n",
              "      <td>Chris Kuzneski</td>\n",
              "      <td>Arun Khopkar</td>\n",
              "      <td>Thomas Hobbes</td>\n",
              "      <td>Agatha Christie</td>\n",
              "      <td>Editors of Life</td>\n",
              "    </tr>\n",
              "    <tr>\n",
              "      <th>Edition</th>\n",
              "      <td>Paperback,– 10 Mar 2016</td>\n",
              "      <td>Paperback,– 7 Nov 2012</td>\n",
              "      <td>Paperback,– 25 Feb 1982</td>\n",
              "      <td>Paperback,– 5 Oct 2017</td>\n",
              "      <td>Hardcover,– 10 Oct 2006</td>\n",
              "    </tr>\n",
              "    <tr>\n",
              "      <th>Reviews</th>\n",
              "      <td>4.0 out of 5 stars</td>\n",
              "      <td>3.9 out of 5 stars</td>\n",
              "      <td>4.8 out of 5 stars</td>\n",
              "      <td>4.1 out of 5 stars</td>\n",
              "      <td>5.0 out of 5 stars</td>\n",
              "    </tr>\n",
              "    <tr>\n",
              "      <th>Ratings</th>\n",
              "      <td>8 customer reviews</td>\n",
              "      <td>14 customer reviews</td>\n",
              "      <td>6 customer reviews</td>\n",
              "      <td>13 customer reviews</td>\n",
              "      <td>1 customer review</td>\n",
              "    </tr>\n",
              "    <tr>\n",
              "      <th>Synopsis</th>\n",
              "      <td>THE HUNTERS return in their third brilliant no...</td>\n",
              "      <td>A layered portrait of a troubled genius for wh...</td>\n",
              "      <td>\"During the time men live without a common Pow...</td>\n",
              "      <td>A handful of grain is found in the pocket of a...</td>\n",
              "      <td>For seven decades, \"Life\" has been thrilling t...</td>\n",
              "    </tr>\n",
              "    <tr>\n",
              "      <th>Genre</th>\n",
              "      <td>Action &amp; Adventure (Books)</td>\n",
              "      <td>Cinema &amp; Broadcast (Books)</td>\n",
              "      <td>International Relations</td>\n",
              "      <td>Contemporary Fiction (Books)</td>\n",
              "      <td>Photography Textbooks</td>\n",
              "    </tr>\n",
              "    <tr>\n",
              "      <th>BookCategory</th>\n",
              "      <td>Action &amp; Adventure</td>\n",
              "      <td>Biographies, Diaries &amp; True Accounts</td>\n",
              "      <td>Humour</td>\n",
              "      <td>Crime, Thriller &amp; Mystery</td>\n",
              "      <td>Arts, Film &amp; Photography</td>\n",
              "    </tr>\n",
              "    <tr>\n",
              "      <th>Price</th>\n",
              "      <td>220</td>\n",
              "      <td>202.93</td>\n",
              "      <td>299</td>\n",
              "      <td>180</td>\n",
              "      <td>965.62</td>\n",
              "    </tr>\n",
              "  </tbody>\n",
              "</table>\n",
              "</div>"
            ],
            "text/plain": [
              "                                                              0  ...                                                  4\n",
              "Title                       The Prisoner's Gold (The Hunters 3)  ...         LIFE 70 Years of Extraordinary Photography\n",
              "Author                                           Chris Kuzneski  ...                                    Editors of Life\n",
              "Edition                                 Paperback,– 10 Mar 2016  ...                            Hardcover,– 10 Oct 2006\n",
              "Reviews                                      4.0 out of 5 stars  ...                                 5.0 out of 5 stars\n",
              "Ratings                                      8 customer reviews  ...                                  1 customer review\n",
              "Synopsis      THE HUNTERS return in their third brilliant no...  ...  For seven decades, \"Life\" has been thrilling t...\n",
              "Genre                                Action & Adventure (Books)  ...                              Photography Textbooks\n",
              "BookCategory                                 Action & Adventure  ...                           Arts, Film & Photography\n",
              "Price                                                       220  ...                                             965.62\n",
              "\n",
              "[9 rows x 5 columns]"
            ]
          },
          "metadata": {
            "tags": []
          },
          "execution_count": 30
        }
      ]
    },
    {
      "cell_type": "code",
      "metadata": {
        "id": "Z8wTo3T6XXCh",
        "colab_type": "code",
        "colab": {
          "base_uri": "https://localhost:8080/",
          "height": 221
        },
        "outputId": "2ee69c43-d26f-4523-a671-b204a6f41e9a"
      },
      "source": [
        "print(train.Title)"
      ],
      "execution_count": 31,
      "outputs": [
        {
          "output_type": "stream",
          "text": [
            "0                     The Prisoner's Gold (The Hunters 3)\n",
            "1                      Guru Dutt: A Tragedy in Three Acts\n",
            "2                            Leviathan (Penguin Classics)\n",
            "3                      A Pocket Full of Rye (Miss Marple)\n",
            "4              LIFE 70 Years of Extraordinary Photography\n",
            "                              ...                        \n",
            "6232    Humans: A Brief History of How We F*cked It Al...\n",
            "6233                                          The Chemist\n",
            "6234    The Duke And I: Number 1 in series (Bridgerton...\n",
            "6235                         Frostfire (Kanin Chronicles)\n",
            "6236                          The First Order (Sam Capra)\n",
            "Name: Title, Length: 6237, dtype: object\n"
          ],
          "name": "stdout"
        }
      ]
    },
    {
      "cell_type": "code",
      "metadata": {
        "id": "iAL79yzuXtFl",
        "colab_type": "code",
        "colab": {}
      },
      "source": [
        "#combining test and train for cleaning\n",
        "\n",
        "\n",
        "combined = pd.concat([train, test], sort=False)\n",
        "combined.reset_index(drop=True, inplace=True)"
      ],
      "execution_count": 32,
      "outputs": []
    },
    {
      "cell_type": "code",
      "metadata": {
        "id": "28X8NZLscryf",
        "colab_type": "code",
        "colab": {
          "base_uri": "https://localhost:8080/",
          "height": 34
        },
        "outputId": "45f8af15-139d-4462-e56b-90285813e185"
      },
      "source": [
        "combined.index"
      ],
      "execution_count": 33,
      "outputs": [
        {
          "output_type": "execute_result",
          "data": {
            "text/plain": [
              "RangeIndex(start=0, stop=7797, step=1)"
            ]
          },
          "metadata": {
            "tags": []
          },
          "execution_count": 33
        }
      ]
    },
    {
      "cell_type": "code",
      "metadata": {
        "id": "lFSZSXhwc4o5",
        "colab_type": "code",
        "colab": {
          "base_uri": "https://localhost:8080/",
          "height": 340
        },
        "outputId": "dd0d6535-abfe-490d-b20a-e0bb07457b7e"
      },
      "source": [
        "combined.values"
      ],
      "execution_count": 34,
      "outputs": [
        {
          "output_type": "execute_result",
          "data": {
            "text/plain": [
              "array([[\"The Prisoner's Gold (The Hunters 3)\", 'Chris Kuzneski',\n",
              "        'Paperback,– 10 Mar 2016', ..., 'Action & Adventure (Books)',\n",
              "        'Action & Adventure', 220.0],\n",
              "       ['Guru Dutt: A Tragedy in Three Acts', 'Arun Khopkar',\n",
              "        'Paperback,– 7 Nov 2012', ..., 'Cinema & Broadcast (Books)',\n",
              "        'Biographies, Diaries & True Accounts', 202.93],\n",
              "       ['Leviathan (Penguin Classics)', 'Thomas Hobbes',\n",
              "        'Paperback,– 25 Feb 1982', ..., 'International Relations',\n",
              "        'Humour', 299.0],\n",
              "       ...,\n",
              "       ['The Kite Runner Graphic Novel', 'Khaled Hosseini',\n",
              "        'Paperback,– 6 Sep 2011', ..., 'Humour (Books)', 'Humour', nan],\n",
              "       ['Panzer Leader (Penguin World War II Collection)',\n",
              "        'Heinz Guderian', 'Paperback,– 22 Sep 2009', ...,\n",
              "        'United States History', 'Biographies, Diaries & True Accounts',\n",
              "        nan],\n",
              "       ['Complete Spanish Step-by-Step', 'Barbara Bregstein',\n",
              "        'Paperback,– 16 Sep 2016', ..., 'Dictionaries',\n",
              "        'Language, Linguistics & Writing', nan]], dtype=object)"
            ]
          },
          "metadata": {
            "tags": []
          },
          "execution_count": 34
        }
      ]
    },
    {
      "cell_type": "code",
      "metadata": {
        "id": "dKiZ-41cdRo4",
        "colab_type": "code",
        "colab": {
          "base_uri": "https://localhost:8080/",
          "height": 34
        },
        "outputId": "f4ba14d6-a73c-4b5f-ae21-4636c8e5fec7"
      },
      "source": [
        "combined.shape"
      ],
      "execution_count": 35,
      "outputs": [
        {
          "output_type": "execute_result",
          "data": {
            "text/plain": [
              "(7797, 9)"
            ]
          },
          "metadata": {
            "tags": []
          },
          "execution_count": 35
        }
      ]
    },
    {
      "cell_type": "code",
      "metadata": {
        "id": "_eXyLpZRdidJ",
        "colab_type": "code",
        "colab": {
          "base_uri": "https://localhost:8080/",
          "height": 289
        },
        "outputId": "bf9e0caa-10a8-49e0-e781-c0936cccd60e"
      },
      "source": [
        "combined.info() #confirms no missing data"
      ],
      "execution_count": 36,
      "outputs": [
        {
          "output_type": "stream",
          "text": [
            "<class 'pandas.core.frame.DataFrame'>\n",
            "RangeIndex: 7797 entries, 0 to 7796\n",
            "Data columns (total 9 columns):\n",
            " #   Column        Non-Null Count  Dtype  \n",
            "---  ------        --------------  -----  \n",
            " 0   Title         7797 non-null   object \n",
            " 1   Author        7797 non-null   object \n",
            " 2   Edition       7797 non-null   object \n",
            " 3   Reviews       7797 non-null   object \n",
            " 4   Ratings       7797 non-null   object \n",
            " 5   Synopsis      7797 non-null   object \n",
            " 6   Genre         7797 non-null   object \n",
            " 7   BookCategory  7797 non-null   object \n",
            " 8   Price         6237 non-null   float64\n",
            "dtypes: float64(1), object(8)\n",
            "memory usage: 548.4+ KB\n"
          ],
          "name": "stdout"
        }
      ]
    },
    {
      "cell_type": "code",
      "metadata": {
        "id": "hF-zL_cmrNGb",
        "colab_type": "code",
        "colab": {}
      },
      "source": [
        "combined['Reviews_values'] = combined['Reviews'].str.split(' ').str.get(0)"
      ],
      "execution_count": 37,
      "outputs": []
    },
    {
      "cell_type": "code",
      "metadata": {
        "id": "_2SJVg5M31hw",
        "colab_type": "code",
        "colab": {}
      },
      "source": [
        "combined['Rating_values'] = train['Ratings'].str.split(' ').str.get(0)"
      ],
      "execution_count": 38,
      "outputs": []
    },
    {
      "cell_type": "code",
      "metadata": {
        "id": "OwoSyEO44TMx",
        "colab_type": "code",
        "colab": {
          "base_uri": "https://localhost:8080/",
          "height": 221
        },
        "outputId": "806e3f87-2fa6-40cf-8eb4-c059d456c45f"
      },
      "source": [
        "combined.Edition"
      ],
      "execution_count": 39,
      "outputs": [
        {
          "output_type": "execute_result",
          "data": {
            "text/plain": [
              "0       Paperback,– 10 Mar 2016\n",
              "1        Paperback,– 7 Nov 2012\n",
              "2       Paperback,– 25 Feb 1982\n",
              "3        Paperback,– 5 Oct 2017\n",
              "4       Hardcover,– 10 Oct 2006\n",
              "                 ...           \n",
              "7792    Paperback,– 14 Apr 2011\n",
              "7793     Paperback,– 8 May 2013\n",
              "7794     Paperback,– 6 Sep 2011\n",
              "7795    Paperback,– 22 Sep 2009\n",
              "7796    Paperback,– 16 Sep 2016\n",
              "Name: Edition, Length: 7797, dtype: object"
            ]
          },
          "metadata": {
            "tags": []
          },
          "execution_count": 39
        }
      ]
    },
    {
      "cell_type": "code",
      "metadata": {
        "id": "oDzJ-Zxe6g0N",
        "colab_type": "code",
        "colab": {}
      },
      "source": [
        "combined[['Issue_type','Issue_date']] = combined['Edition'].str.split(',– ',expand=True)"
      ],
      "execution_count": 40,
      "outputs": []
    },
    {
      "cell_type": "code",
      "metadata": {
        "id": "Dx853GBs7mHa",
        "colab_type": "code",
        "colab": {}
      },
      "source": [
        "combined['Issue_month'] = combined.Issue_date.str[-8:-5]\n",
        "combined['Issue_year'] = combined.Issue_date.str[-4:]"
      ],
      "execution_count": 51,
      "outputs": []
    },
    {
      "cell_type": "code",
      "metadata": {
        "id": "iJm-aQkm9Lgd",
        "colab_type": "code",
        "colab": {}
      },
      "source": [
        "combined['Genre'] = combined['Genre'].str.replace(r\"\\(.*\\)\",\"\")  #removing '(Books)' from Genre "
      ],
      "execution_count": 53,
      "outputs": []
    },
    {
      "cell_type": "code",
      "metadata": {
        "id": "hVhHeaC1-DcP",
        "colab_type": "code",
        "colab": {}
      },
      "source": [
        "#combined.head(50)"
      ],
      "execution_count": 59,
      "outputs": []
    },
    {
      "cell_type": "code",
      "metadata": {
        "id": "u7JyUYRHGRHP",
        "colab_type": "code",
        "colab": {
          "base_uri": "https://localhost:8080/",
          "height": 111
        },
        "outputId": "989984ea-b33a-40bc-c43b-55072271dba6"
      },
      "source": [
        "combined.describe(include = 'all').head(2)"
      ],
      "execution_count": 57,
      "outputs": [
        {
          "output_type": "execute_result",
          "data": {
            "text/html": [
              "<div>\n",
              "<style scoped>\n",
              "    .dataframe tbody tr th:only-of-type {\n",
              "        vertical-align: middle;\n",
              "    }\n",
              "\n",
              "    .dataframe tbody tr th {\n",
              "        vertical-align: top;\n",
              "    }\n",
              "\n",
              "    .dataframe thead th {\n",
              "        text-align: right;\n",
              "    }\n",
              "</style>\n",
              "<table border=\"1\" class=\"dataframe\">\n",
              "  <thead>\n",
              "    <tr style=\"text-align: right;\">\n",
              "      <th></th>\n",
              "      <th>Title</th>\n",
              "      <th>Author</th>\n",
              "      <th>Edition</th>\n",
              "      <th>Reviews</th>\n",
              "      <th>Ratings</th>\n",
              "      <th>Synopsis</th>\n",
              "      <th>Genre</th>\n",
              "      <th>BookCategory</th>\n",
              "      <th>Price</th>\n",
              "      <th>Reviews_values</th>\n",
              "      <th>Rating_values</th>\n",
              "      <th>Issue_type</th>\n",
              "      <th>Issue_date</th>\n",
              "      <th>Issue_month</th>\n",
              "      <th>Issue_year</th>\n",
              "    </tr>\n",
              "  </thead>\n",
              "  <tbody>\n",
              "    <tr>\n",
              "      <th>count</th>\n",
              "      <td>7797</td>\n",
              "      <td>7797</td>\n",
              "      <td>7797</td>\n",
              "      <td>7797</td>\n",
              "      <td>7797</td>\n",
              "      <td>7797</td>\n",
              "      <td>7797</td>\n",
              "      <td>7797</td>\n",
              "      <td>6237.0</td>\n",
              "      <td>7797</td>\n",
              "      <td>6237</td>\n",
              "      <td>7797</td>\n",
              "      <td>7797</td>\n",
              "      <td>7797</td>\n",
              "      <td>7797</td>\n",
              "    </tr>\n",
              "    <tr>\n",
              "      <th>unique</th>\n",
              "      <td>6787</td>\n",
              "      <td>4372</td>\n",
              "      <td>3882</td>\n",
              "      <td>36</td>\n",
              "      <td>368</td>\n",
              "      <td>6771</td>\n",
              "      <td>363</td>\n",
              "      <td>11</td>\n",
              "      <td>NaN</td>\n",
              "      <td>36</td>\n",
              "      <td>342</td>\n",
              "      <td>20</td>\n",
              "      <td>3332</td>\n",
              "      <td>25</td>\n",
              "      <td>67</td>\n",
              "    </tr>\n",
              "  </tbody>\n",
              "</table>\n",
              "</div>"
            ],
            "text/plain": [
              "       Title Author Edition  ... Issue_date Issue_month Issue_year\n",
              "count   7797   7797    7797  ...       7797        7797       7797\n",
              "unique  6787   4372    3882  ...       3332          25         67\n",
              "\n",
              "[2 rows x 15 columns]"
            ]
          },
          "metadata": {
            "tags": []
          },
          "execution_count": 57
        }
      ]
    },
    {
      "cell_type": "code",
      "metadata": {
        "id": "AKh1TabJ_dzl",
        "colab_type": "code",
        "colab": {}
      },
      "source": [
        "Book_Type = train.Edition.str.split(',').str.get(0)\n",
        "#Book_Type = pd.Categorical('BookType').unique"
      ],
      "execution_count": 44,
      "outputs": []
    },
    {
      "cell_type": "code",
      "metadata": {
        "id": "NskyQPGrDVlZ",
        "colab_type": "code",
        "colab": {
          "base_uri": "https://localhost:8080/",
          "height": 173
        },
        "outputId": "a8a8e2c8-19db-4088-cb90-f4bf2cefe7ad"
      },
      "source": [
        "test.describe()"
      ],
      "execution_count": 58,
      "outputs": [
        {
          "output_type": "execute_result",
          "data": {
            "text/html": [
              "<div>\n",
              "<style scoped>\n",
              "    .dataframe tbody tr th:only-of-type {\n",
              "        vertical-align: middle;\n",
              "    }\n",
              "\n",
              "    .dataframe tbody tr th {\n",
              "        vertical-align: top;\n",
              "    }\n",
              "\n",
              "    .dataframe thead th {\n",
              "        text-align: right;\n",
              "    }\n",
              "</style>\n",
              "<table border=\"1\" class=\"dataframe\">\n",
              "  <thead>\n",
              "    <tr style=\"text-align: right;\">\n",
              "      <th></th>\n",
              "      <th>Title</th>\n",
              "      <th>Author</th>\n",
              "      <th>Edition</th>\n",
              "      <th>Reviews</th>\n",
              "      <th>Ratings</th>\n",
              "      <th>Synopsis</th>\n",
              "      <th>Genre</th>\n",
              "      <th>BookCategory</th>\n",
              "    </tr>\n",
              "  </thead>\n",
              "  <tbody>\n",
              "    <tr>\n",
              "      <th>count</th>\n",
              "      <td>1560</td>\n",
              "      <td>1560</td>\n",
              "      <td>1560</td>\n",
              "      <td>1560</td>\n",
              "      <td>1560</td>\n",
              "      <td>1560</td>\n",
              "      <td>1560</td>\n",
              "      <td>1560</td>\n",
              "    </tr>\n",
              "    <tr>\n",
              "      <th>unique</th>\n",
              "      <td>1521</td>\n",
              "      <td>1224</td>\n",
              "      <td>1259</td>\n",
              "      <td>30</td>\n",
              "      <td>163</td>\n",
              "      <td>1519</td>\n",
              "      <td>225</td>\n",
              "      <td>11</td>\n",
              "    </tr>\n",
              "    <tr>\n",
              "      <th>top</th>\n",
              "      <td>Doing Justice: A Prosecutor’s Thoughts on Crim...</td>\n",
              "      <td>Agatha Christie</td>\n",
              "      <td>Paperback,– 2016</td>\n",
              "      <td>5.0 out of 5 stars</td>\n",
              "      <td>1 customer review</td>\n",
              "      <td>A Guardian Pick for 2019\\nThe People vs. Putin...</td>\n",
              "      <td>Action &amp; Adventure (Books)</td>\n",
              "      <td>Action &amp; Adventure</td>\n",
              "    </tr>\n",
              "    <tr>\n",
              "      <th>freq</th>\n",
              "      <td>3</td>\n",
              "      <td>18</td>\n",
              "      <td>12</td>\n",
              "      <td>376</td>\n",
              "      <td>288</td>\n",
              "      <td>3</td>\n",
              "      <td>236</td>\n",
              "      <td>218</td>\n",
              "    </tr>\n",
              "  </tbody>\n",
              "</table>\n",
              "</div>"
            ],
            "text/plain": [
              "                                                    Title  ...        BookCategory\n",
              "count                                                1560  ...                1560\n",
              "unique                                               1521  ...                  11\n",
              "top     Doing Justice: A Prosecutor’s Thoughts on Crim...  ...  Action & Adventure\n",
              "freq                                                    3  ...                 218\n",
              "\n",
              "[4 rows x 8 columns]"
            ]
          },
          "metadata": {
            "tags": []
          },
          "execution_count": 58
        }
      ]
    },
    {
      "cell_type": "code",
      "metadata": {
        "id": "wNzIpPVKN0Br",
        "colab_type": "code",
        "colab": {}
      },
      "source": [
        "#Dropping Columns\n",
        "\n",
        "df_modified.drop(['Edition','Reviews','Ratings'], axis=1, inplace=True)"
      ],
      "execution_count": null,
      "outputs": []
    },
    {
      "cell_type": "code",
      "metadata": {
        "id": "dB0K3-aKRQqJ",
        "colab_type": "code",
        "colab": {}
      },
      "source": [
        "\n",
        "#converting into categorical data\n",
        "\n",
        "df_modified[\"Book_Type\"] = df_modified[\"Book_Type\"].astype('category')\n",
        "df_modified.dtypes\n"
      ],
      "execution_count": null,
      "outputs": []
    },
    {
      "cell_type": "code",
      "metadata": {
        "id": "hsH1x8R9TRqK",
        "colab_type": "code",
        "colab": {}
      },
      "source": [
        "\n",
        "#label encoding\n",
        "\n",
        "df_modified['Book_Type_Cat'] = df_modified[\"Book_Type\"].cat.codes\n"
      ],
      "execution_count": null,
      "outputs": []
    },
    {
      "cell_type": "code",
      "metadata": {
        "id": "MAB6gW6ETRnb",
        "colab_type": "code",
        "colab": {}
      },
      "source": [
        ""
      ],
      "execution_count": null,
      "outputs": []
    }
  ]
}